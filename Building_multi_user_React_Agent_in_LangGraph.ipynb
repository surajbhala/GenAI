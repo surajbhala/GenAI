{
  "nbformat": 4,
  "nbformat_minor": 0,
  "metadata": {
    "colab": {
      "provenance": [],
      "authorship_tag": "ABX9TyOseJ2BRDxl/C6pcGhSk8Ed",
      "include_colab_link": true
    },
    "kernelspec": {
      "name": "python3",
      "display_name": "Python 3"
    },
    "language_info": {
      "name": "python"
    }
  },
  "cells": [
    {
      "cell_type": "markdown",
      "metadata": {
        "id": "view-in-github",
        "colab_type": "text"
      },
      "source": [
        "<a href=\"https://colab.research.google.com/github/surajbhala/GenAI/blob/main/Building_multi_user_React_Agent_in_LangGraph.ipynb\" target=\"_parent\"><img src=\"https://colab.research.google.com/assets/colab-badge.svg\" alt=\"Open In Colab\"/></a>"
      ]
    },
    {
      "cell_type": "code",
      "execution_count": 1,
      "metadata": {
        "colab": {
          "base_uri": "https://localhost:8080/"
        },
        "id": "T7e2GU806hLY",
        "outputId": "44d6263b-1b5a-40bd-b036-8d7542322af5"
      },
      "outputs": [
        {
          "output_type": "stream",
          "name": "stdout",
          "text": [
            "Requirement already satisfied: langchain in /usr/local/lib/python3.10/dist-packages (0.3.4)\n",
            "Requirement already satisfied: PyYAML>=5.3 in /usr/local/lib/python3.10/dist-packages (from langchain) (6.0.2)\n",
            "Requirement already satisfied: SQLAlchemy<3,>=1.4 in /usr/local/lib/python3.10/dist-packages (from langchain) (2.0.36)\n",
            "Requirement already satisfied: aiohttp<4.0.0,>=3.8.3 in /usr/local/lib/python3.10/dist-packages (from langchain) (3.10.10)\n",
            "Requirement already satisfied: async-timeout<5.0.0,>=4.0.0 in /usr/local/lib/python3.10/dist-packages (from langchain) (4.0.3)\n",
            "Requirement already satisfied: langchain-core<0.4.0,>=0.3.12 in /usr/local/lib/python3.10/dist-packages (from langchain) (0.3.13)\n",
            "Requirement already satisfied: langchain-text-splitters<0.4.0,>=0.3.0 in /usr/local/lib/python3.10/dist-packages (from langchain) (0.3.0)\n",
            "Requirement already satisfied: langsmith<0.2.0,>=0.1.17 in /usr/local/lib/python3.10/dist-packages (from langchain) (0.1.137)\n",
            "Requirement already satisfied: numpy<2,>=1 in /usr/local/lib/python3.10/dist-packages (from langchain) (1.26.4)\n",
            "Requirement already satisfied: pydantic<3.0.0,>=2.7.4 in /usr/local/lib/python3.10/dist-packages (from langchain) (2.9.2)\n",
            "Requirement already satisfied: requests<3,>=2 in /usr/local/lib/python3.10/dist-packages (from langchain) (2.32.3)\n",
            "Requirement already satisfied: tenacity!=8.4.0,<10,>=8.1.0 in /usr/local/lib/python3.10/dist-packages (from langchain) (9.0.0)\n",
            "Requirement already satisfied: aiohappyeyeballs>=2.3.0 in /usr/local/lib/python3.10/dist-packages (from aiohttp<4.0.0,>=3.8.3->langchain) (2.4.3)\n",
            "Requirement already satisfied: aiosignal>=1.1.2 in /usr/local/lib/python3.10/dist-packages (from aiohttp<4.0.0,>=3.8.3->langchain) (1.3.1)\n",
            "Requirement already satisfied: attrs>=17.3.0 in /usr/local/lib/python3.10/dist-packages (from aiohttp<4.0.0,>=3.8.3->langchain) (24.2.0)\n",
            "Requirement already satisfied: frozenlist>=1.1.1 in /usr/local/lib/python3.10/dist-packages (from aiohttp<4.0.0,>=3.8.3->langchain) (1.5.0)\n",
            "Requirement already satisfied: multidict<7.0,>=4.5 in /usr/local/lib/python3.10/dist-packages (from aiohttp<4.0.0,>=3.8.3->langchain) (6.1.0)\n",
            "Requirement already satisfied: yarl<2.0,>=1.12.0 in /usr/local/lib/python3.10/dist-packages (from aiohttp<4.0.0,>=3.8.3->langchain) (1.16.0)\n",
            "Requirement already satisfied: jsonpatch<2.0,>=1.33 in /usr/local/lib/python3.10/dist-packages (from langchain-core<0.4.0,>=0.3.12->langchain) (1.33)\n",
            "Requirement already satisfied: packaging<25,>=23.2 in /usr/local/lib/python3.10/dist-packages (from langchain-core<0.4.0,>=0.3.12->langchain) (24.1)\n",
            "Requirement already satisfied: typing-extensions>=4.7 in /usr/local/lib/python3.10/dist-packages (from langchain-core<0.4.0,>=0.3.12->langchain) (4.12.2)\n",
            "Requirement already satisfied: httpx<1,>=0.23.0 in /usr/local/lib/python3.10/dist-packages (from langsmith<0.2.0,>=0.1.17->langchain) (0.27.2)\n",
            "Requirement already satisfied: orjson<4.0.0,>=3.9.14 in /usr/local/lib/python3.10/dist-packages (from langsmith<0.2.0,>=0.1.17->langchain) (3.10.10)\n",
            "Requirement already satisfied: requests-toolbelt<2.0.0,>=1.0.0 in /usr/local/lib/python3.10/dist-packages (from langsmith<0.2.0,>=0.1.17->langchain) (1.0.0)\n",
            "Requirement already satisfied: annotated-types>=0.6.0 in /usr/local/lib/python3.10/dist-packages (from pydantic<3.0.0,>=2.7.4->langchain) (0.7.0)\n",
            "Requirement already satisfied: pydantic-core==2.23.4 in /usr/local/lib/python3.10/dist-packages (from pydantic<3.0.0,>=2.7.4->langchain) (2.23.4)\n",
            "Requirement already satisfied: charset-normalizer<4,>=2 in /usr/local/lib/python3.10/dist-packages (from requests<3,>=2->langchain) (3.4.0)\n",
            "Requirement already satisfied: idna<4,>=2.5 in /usr/local/lib/python3.10/dist-packages (from requests<3,>=2->langchain) (3.10)\n",
            "Requirement already satisfied: urllib3<3,>=1.21.1 in /usr/local/lib/python3.10/dist-packages (from requests<3,>=2->langchain) (2.2.3)\n",
            "Requirement already satisfied: certifi>=2017.4.17 in /usr/local/lib/python3.10/dist-packages (from requests<3,>=2->langchain) (2024.8.30)\n",
            "Requirement already satisfied: greenlet!=0.4.17 in /usr/local/lib/python3.10/dist-packages (from SQLAlchemy<3,>=1.4->langchain) (3.1.1)\n",
            "Requirement already satisfied: anyio in /usr/local/lib/python3.10/dist-packages (from httpx<1,>=0.23.0->langsmith<0.2.0,>=0.1.17->langchain) (3.7.1)\n",
            "Requirement already satisfied: httpcore==1.* in /usr/local/lib/python3.10/dist-packages (from httpx<1,>=0.23.0->langsmith<0.2.0,>=0.1.17->langchain) (1.0.6)\n",
            "Requirement already satisfied: sniffio in /usr/local/lib/python3.10/dist-packages (from httpx<1,>=0.23.0->langsmith<0.2.0,>=0.1.17->langchain) (1.3.1)\n",
            "Requirement already satisfied: h11<0.15,>=0.13 in /usr/local/lib/python3.10/dist-packages (from httpcore==1.*->httpx<1,>=0.23.0->langsmith<0.2.0,>=0.1.17->langchain) (0.14.0)\n",
            "Requirement already satisfied: jsonpointer>=1.9 in /usr/local/lib/python3.10/dist-packages (from jsonpatch<2.0,>=1.33->langchain-core<0.4.0,>=0.3.12->langchain) (3.0.0)\n",
            "Requirement already satisfied: propcache>=0.2.0 in /usr/local/lib/python3.10/dist-packages (from yarl<2.0,>=1.12.0->aiohttp<4.0.0,>=3.8.3->langchain) (0.2.0)\n",
            "Requirement already satisfied: exceptiongroup in /usr/local/lib/python3.10/dist-packages (from anyio->httpx<1,>=0.23.0->langsmith<0.2.0,>=0.1.17->langchain) (1.2.2)\n",
            "Collecting langchain-openai\n",
            "  Downloading langchain_openai-0.2.4-py3-none-any.whl.metadata (2.6 kB)\n",
            "Requirement already satisfied: langchain-core<0.4.0,>=0.3.13 in /usr/local/lib/python3.10/dist-packages (from langchain-openai) (0.3.13)\n",
            "Requirement already satisfied: openai<2.0.0,>=1.52.0 in /usr/local/lib/python3.10/dist-packages (from langchain-openai) (1.52.2)\n",
            "Collecting tiktoken<1,>=0.7 (from langchain-openai)\n",
            "  Downloading tiktoken-0.8.0-cp310-cp310-manylinux_2_17_x86_64.manylinux2014_x86_64.whl.metadata (6.6 kB)\n",
            "Requirement already satisfied: PyYAML>=5.3 in /usr/local/lib/python3.10/dist-packages (from langchain-core<0.4.0,>=0.3.13->langchain-openai) (6.0.2)\n",
            "Requirement already satisfied: jsonpatch<2.0,>=1.33 in /usr/local/lib/python3.10/dist-packages (from langchain-core<0.4.0,>=0.3.13->langchain-openai) (1.33)\n",
            "Requirement already satisfied: langsmith<0.2.0,>=0.1.125 in /usr/local/lib/python3.10/dist-packages (from langchain-core<0.4.0,>=0.3.13->langchain-openai) (0.1.137)\n",
            "Requirement already satisfied: packaging<25,>=23.2 in /usr/local/lib/python3.10/dist-packages (from langchain-core<0.4.0,>=0.3.13->langchain-openai) (24.1)\n",
            "Requirement already satisfied: pydantic<3.0.0,>=2.5.2 in /usr/local/lib/python3.10/dist-packages (from langchain-core<0.4.0,>=0.3.13->langchain-openai) (2.9.2)\n",
            "Requirement already satisfied: tenacity!=8.4.0,<10.0.0,>=8.1.0 in /usr/local/lib/python3.10/dist-packages (from langchain-core<0.4.0,>=0.3.13->langchain-openai) (9.0.0)\n",
            "Requirement already satisfied: typing-extensions>=4.7 in /usr/local/lib/python3.10/dist-packages (from langchain-core<0.4.0,>=0.3.13->langchain-openai) (4.12.2)\n",
            "Requirement already satisfied: anyio<5,>=3.5.0 in /usr/local/lib/python3.10/dist-packages (from openai<2.0.0,>=1.52.0->langchain-openai) (3.7.1)\n",
            "Requirement already satisfied: distro<2,>=1.7.0 in /usr/local/lib/python3.10/dist-packages (from openai<2.0.0,>=1.52.0->langchain-openai) (1.9.0)\n",
            "Requirement already satisfied: httpx<1,>=0.23.0 in /usr/local/lib/python3.10/dist-packages (from openai<2.0.0,>=1.52.0->langchain-openai) (0.27.2)\n",
            "Requirement already satisfied: jiter<1,>=0.4.0 in /usr/local/lib/python3.10/dist-packages (from openai<2.0.0,>=1.52.0->langchain-openai) (0.6.1)\n",
            "Requirement already satisfied: sniffio in /usr/local/lib/python3.10/dist-packages (from openai<2.0.0,>=1.52.0->langchain-openai) (1.3.1)\n",
            "Requirement already satisfied: tqdm>4 in /usr/local/lib/python3.10/dist-packages (from openai<2.0.0,>=1.52.0->langchain-openai) (4.66.5)\n",
            "Requirement already satisfied: regex>=2022.1.18 in /usr/local/lib/python3.10/dist-packages (from tiktoken<1,>=0.7->langchain-openai) (2024.9.11)\n",
            "Requirement already satisfied: requests>=2.26.0 in /usr/local/lib/python3.10/dist-packages (from tiktoken<1,>=0.7->langchain-openai) (2.32.3)\n",
            "Requirement already satisfied: idna>=2.8 in /usr/local/lib/python3.10/dist-packages (from anyio<5,>=3.5.0->openai<2.0.0,>=1.52.0->langchain-openai) (3.10)\n",
            "Requirement already satisfied: exceptiongroup in /usr/local/lib/python3.10/dist-packages (from anyio<5,>=3.5.0->openai<2.0.0,>=1.52.0->langchain-openai) (1.2.2)\n",
            "Requirement already satisfied: certifi in /usr/local/lib/python3.10/dist-packages (from httpx<1,>=0.23.0->openai<2.0.0,>=1.52.0->langchain-openai) (2024.8.30)\n",
            "Requirement already satisfied: httpcore==1.* in /usr/local/lib/python3.10/dist-packages (from httpx<1,>=0.23.0->openai<2.0.0,>=1.52.0->langchain-openai) (1.0.6)\n",
            "Requirement already satisfied: h11<0.15,>=0.13 in /usr/local/lib/python3.10/dist-packages (from httpcore==1.*->httpx<1,>=0.23.0->openai<2.0.0,>=1.52.0->langchain-openai) (0.14.0)\n",
            "Requirement already satisfied: jsonpointer>=1.9 in /usr/local/lib/python3.10/dist-packages (from jsonpatch<2.0,>=1.33->langchain-core<0.4.0,>=0.3.13->langchain-openai) (3.0.0)\n",
            "Requirement already satisfied: orjson<4.0.0,>=3.9.14 in /usr/local/lib/python3.10/dist-packages (from langsmith<0.2.0,>=0.1.125->langchain-core<0.4.0,>=0.3.13->langchain-openai) (3.10.10)\n",
            "Requirement already satisfied: requests-toolbelt<2.0.0,>=1.0.0 in /usr/local/lib/python3.10/dist-packages (from langsmith<0.2.0,>=0.1.125->langchain-core<0.4.0,>=0.3.13->langchain-openai) (1.0.0)\n",
            "Requirement already satisfied: annotated-types>=0.6.0 in /usr/local/lib/python3.10/dist-packages (from pydantic<3.0.0,>=2.5.2->langchain-core<0.4.0,>=0.3.13->langchain-openai) (0.7.0)\n",
            "Requirement already satisfied: pydantic-core==2.23.4 in /usr/local/lib/python3.10/dist-packages (from pydantic<3.0.0,>=2.5.2->langchain-core<0.4.0,>=0.3.13->langchain-openai) (2.23.4)\n",
            "Requirement already satisfied: charset-normalizer<4,>=2 in /usr/local/lib/python3.10/dist-packages (from requests>=2.26.0->tiktoken<1,>=0.7->langchain-openai) (3.4.0)\n",
            "Requirement already satisfied: urllib3<3,>=1.21.1 in /usr/local/lib/python3.10/dist-packages (from requests>=2.26.0->tiktoken<1,>=0.7->langchain-openai) (2.2.3)\n",
            "Downloading langchain_openai-0.2.4-py3-none-any.whl (50 kB)\n",
            "\u001b[2K   \u001b[90m━━━━━━━━━━━━━━━━━━━━━━━━━━━━━━━━━━━━━━━━\u001b[0m \u001b[32m50.4/50.4 kB\u001b[0m \u001b[31m1.3 MB/s\u001b[0m eta \u001b[36m0:00:00\u001b[0m\n",
            "\u001b[?25hDownloading tiktoken-0.8.0-cp310-cp310-manylinux_2_17_x86_64.manylinux2014_x86_64.whl (1.2 MB)\n",
            "\u001b[2K   \u001b[90m━━━━━━━━━━━━━━━━━━━━━━━━━━━━━━━━━━━━━━━━\u001b[0m \u001b[32m1.2/1.2 MB\u001b[0m \u001b[31m16.5 MB/s\u001b[0m eta \u001b[36m0:00:00\u001b[0m\n",
            "\u001b[?25hInstalling collected packages: tiktoken, langchain-openai\n",
            "Successfully installed langchain-openai-0.2.4 tiktoken-0.8.0\n",
            "Collecting langchain-community\n",
            "  Downloading langchain_community-0.3.4-py3-none-any.whl.metadata (2.9 kB)\n",
            "Requirement already satisfied: PyYAML>=5.3 in /usr/local/lib/python3.10/dist-packages (from langchain-community) (6.0.2)\n",
            "Requirement already satisfied: SQLAlchemy<3,>=1.4 in /usr/local/lib/python3.10/dist-packages (from langchain-community) (2.0.36)\n",
            "Requirement already satisfied: aiohttp<4.0.0,>=3.8.3 in /usr/local/lib/python3.10/dist-packages (from langchain-community) (3.10.10)\n",
            "Collecting dataclasses-json<0.7,>=0.5.7 (from langchain-community)\n",
            "  Downloading dataclasses_json-0.6.7-py3-none-any.whl.metadata (25 kB)\n",
            "Collecting httpx-sse<0.5.0,>=0.4.0 (from langchain-community)\n",
            "  Downloading httpx_sse-0.4.0-py3-none-any.whl.metadata (9.0 kB)\n",
            "Collecting langchain<0.4.0,>=0.3.6 (from langchain-community)\n",
            "  Downloading langchain-0.3.6-py3-none-any.whl.metadata (7.1 kB)\n",
            "Collecting langchain-core<0.4.0,>=0.3.14 (from langchain-community)\n",
            "  Downloading langchain_core-0.3.14-py3-none-any.whl.metadata (6.3 kB)\n",
            "Requirement already satisfied: langsmith<0.2.0,>=0.1.125 in /usr/local/lib/python3.10/dist-packages (from langchain-community) (0.1.137)\n",
            "Requirement already satisfied: numpy<2,>=1 in /usr/local/lib/python3.10/dist-packages (from langchain-community) (1.26.4)\n",
            "Collecting pydantic-settings<3.0.0,>=2.4.0 (from langchain-community)\n",
            "  Downloading pydantic_settings-2.6.0-py3-none-any.whl.metadata (3.5 kB)\n",
            "Requirement already satisfied: requests<3,>=2 in /usr/local/lib/python3.10/dist-packages (from langchain-community) (2.32.3)\n",
            "Requirement already satisfied: tenacity!=8.4.0,<10,>=8.1.0 in /usr/local/lib/python3.10/dist-packages (from langchain-community) (9.0.0)\n",
            "Requirement already satisfied: aiohappyeyeballs>=2.3.0 in /usr/local/lib/python3.10/dist-packages (from aiohttp<4.0.0,>=3.8.3->langchain-community) (2.4.3)\n",
            "Requirement already satisfied: aiosignal>=1.1.2 in /usr/local/lib/python3.10/dist-packages (from aiohttp<4.0.0,>=3.8.3->langchain-community) (1.3.1)\n",
            "Requirement already satisfied: attrs>=17.3.0 in /usr/local/lib/python3.10/dist-packages (from aiohttp<4.0.0,>=3.8.3->langchain-community) (24.2.0)\n",
            "Requirement already satisfied: frozenlist>=1.1.1 in /usr/local/lib/python3.10/dist-packages (from aiohttp<4.0.0,>=3.8.3->langchain-community) (1.5.0)\n",
            "Requirement already satisfied: multidict<7.0,>=4.5 in /usr/local/lib/python3.10/dist-packages (from aiohttp<4.0.0,>=3.8.3->langchain-community) (6.1.0)\n",
            "Requirement already satisfied: yarl<2.0,>=1.12.0 in /usr/local/lib/python3.10/dist-packages (from aiohttp<4.0.0,>=3.8.3->langchain-community) (1.16.0)\n",
            "Requirement already satisfied: async-timeout<5.0,>=4.0 in /usr/local/lib/python3.10/dist-packages (from aiohttp<4.0.0,>=3.8.3->langchain-community) (4.0.3)\n",
            "Collecting marshmallow<4.0.0,>=3.18.0 (from dataclasses-json<0.7,>=0.5.7->langchain-community)\n",
            "  Downloading marshmallow-3.23.0-py3-none-any.whl.metadata (7.6 kB)\n",
            "Collecting typing-inspect<1,>=0.4.0 (from dataclasses-json<0.7,>=0.5.7->langchain-community)\n",
            "  Downloading typing_inspect-0.9.0-py3-none-any.whl.metadata (1.5 kB)\n",
            "Requirement already satisfied: langchain-text-splitters<0.4.0,>=0.3.0 in /usr/local/lib/python3.10/dist-packages (from langchain<0.4.0,>=0.3.6->langchain-community) (0.3.0)\n",
            "Requirement already satisfied: pydantic<3.0.0,>=2.7.4 in /usr/local/lib/python3.10/dist-packages (from langchain<0.4.0,>=0.3.6->langchain-community) (2.9.2)\n",
            "Requirement already satisfied: jsonpatch<2.0,>=1.33 in /usr/local/lib/python3.10/dist-packages (from langchain-core<0.4.0,>=0.3.14->langchain-community) (1.33)\n",
            "Requirement already satisfied: packaging<25,>=23.2 in /usr/local/lib/python3.10/dist-packages (from langchain-core<0.4.0,>=0.3.14->langchain-community) (24.1)\n",
            "Requirement already satisfied: typing-extensions>=4.7 in /usr/local/lib/python3.10/dist-packages (from langchain-core<0.4.0,>=0.3.14->langchain-community) (4.12.2)\n",
            "Requirement already satisfied: httpx<1,>=0.23.0 in /usr/local/lib/python3.10/dist-packages (from langsmith<0.2.0,>=0.1.125->langchain-community) (0.27.2)\n",
            "Requirement already satisfied: orjson<4.0.0,>=3.9.14 in /usr/local/lib/python3.10/dist-packages (from langsmith<0.2.0,>=0.1.125->langchain-community) (3.10.10)\n",
            "Requirement already satisfied: requests-toolbelt<2.0.0,>=1.0.0 in /usr/local/lib/python3.10/dist-packages (from langsmith<0.2.0,>=0.1.125->langchain-community) (1.0.0)\n",
            "Collecting python-dotenv>=0.21.0 (from pydantic-settings<3.0.0,>=2.4.0->langchain-community)\n",
            "  Downloading python_dotenv-1.0.1-py3-none-any.whl.metadata (23 kB)\n",
            "Requirement already satisfied: charset-normalizer<4,>=2 in /usr/local/lib/python3.10/dist-packages (from requests<3,>=2->langchain-community) (3.4.0)\n",
            "Requirement already satisfied: idna<4,>=2.5 in /usr/local/lib/python3.10/dist-packages (from requests<3,>=2->langchain-community) (3.10)\n",
            "Requirement already satisfied: urllib3<3,>=1.21.1 in /usr/local/lib/python3.10/dist-packages (from requests<3,>=2->langchain-community) (2.2.3)\n",
            "Requirement already satisfied: certifi>=2017.4.17 in /usr/local/lib/python3.10/dist-packages (from requests<3,>=2->langchain-community) (2024.8.30)\n",
            "Requirement already satisfied: greenlet!=0.4.17 in /usr/local/lib/python3.10/dist-packages (from SQLAlchemy<3,>=1.4->langchain-community) (3.1.1)\n",
            "Requirement already satisfied: anyio in /usr/local/lib/python3.10/dist-packages (from httpx<1,>=0.23.0->langsmith<0.2.0,>=0.1.125->langchain-community) (3.7.1)\n",
            "Requirement already satisfied: httpcore==1.* in /usr/local/lib/python3.10/dist-packages (from httpx<1,>=0.23.0->langsmith<0.2.0,>=0.1.125->langchain-community) (1.0.6)\n",
            "Requirement already satisfied: sniffio in /usr/local/lib/python3.10/dist-packages (from httpx<1,>=0.23.0->langsmith<0.2.0,>=0.1.125->langchain-community) (1.3.1)\n",
            "Requirement already satisfied: h11<0.15,>=0.13 in /usr/local/lib/python3.10/dist-packages (from httpcore==1.*->httpx<1,>=0.23.0->langsmith<0.2.0,>=0.1.125->langchain-community) (0.14.0)\n",
            "Requirement already satisfied: jsonpointer>=1.9 in /usr/local/lib/python3.10/dist-packages (from jsonpatch<2.0,>=1.33->langchain-core<0.4.0,>=0.3.14->langchain-community) (3.0.0)\n",
            "Requirement already satisfied: annotated-types>=0.6.0 in /usr/local/lib/python3.10/dist-packages (from pydantic<3.0.0,>=2.7.4->langchain<0.4.0,>=0.3.6->langchain-community) (0.7.0)\n",
            "Requirement already satisfied: pydantic-core==2.23.4 in /usr/local/lib/python3.10/dist-packages (from pydantic<3.0.0,>=2.7.4->langchain<0.4.0,>=0.3.6->langchain-community) (2.23.4)\n",
            "Collecting mypy-extensions>=0.3.0 (from typing-inspect<1,>=0.4.0->dataclasses-json<0.7,>=0.5.7->langchain-community)\n",
            "  Downloading mypy_extensions-1.0.0-py3-none-any.whl.metadata (1.1 kB)\n",
            "Requirement already satisfied: propcache>=0.2.0 in /usr/local/lib/python3.10/dist-packages (from yarl<2.0,>=1.12.0->aiohttp<4.0.0,>=3.8.3->langchain-community) (0.2.0)\n",
            "Requirement already satisfied: exceptiongroup in /usr/local/lib/python3.10/dist-packages (from anyio->httpx<1,>=0.23.0->langsmith<0.2.0,>=0.1.125->langchain-community) (1.2.2)\n",
            "Downloading langchain_community-0.3.4-py3-none-any.whl (2.4 MB)\n",
            "\u001b[2K   \u001b[90m━━━━━━━━━━━━━━━━━━━━━━━━━━━━━━━━━━━━━━━━\u001b[0m \u001b[32m2.4/2.4 MB\u001b[0m \u001b[31m31.2 MB/s\u001b[0m eta \u001b[36m0:00:00\u001b[0m\n",
            "\u001b[?25hDownloading dataclasses_json-0.6.7-py3-none-any.whl (28 kB)\n",
            "Downloading httpx_sse-0.4.0-py3-none-any.whl (7.8 kB)\n",
            "Downloading langchain-0.3.6-py3-none-any.whl (1.0 MB)\n",
            "\u001b[2K   \u001b[90m━━━━━━━━━━━━━━━━━━━━━━━━━━━━━━━━━━━━━━━━\u001b[0m \u001b[32m1.0/1.0 MB\u001b[0m \u001b[31m32.8 MB/s\u001b[0m eta \u001b[36m0:00:00\u001b[0m\n",
            "\u001b[?25hDownloading langchain_core-0.3.14-py3-none-any.whl (408 kB)\n",
            "\u001b[2K   \u001b[90m━━━━━━━━━━━━━━━━━━━━━━━━━━━━━━━━━━━━━━━━\u001b[0m \u001b[32m408.7/408.7 kB\u001b[0m \u001b[31m16.9 MB/s\u001b[0m eta \u001b[36m0:00:00\u001b[0m\n",
            "\u001b[?25hDownloading pydantic_settings-2.6.0-py3-none-any.whl (28 kB)\n",
            "Downloading marshmallow-3.23.0-py3-none-any.whl (49 kB)\n",
            "\u001b[2K   \u001b[90m━━━━━━━━━━━━━━━━━━━━━━━━━━━━━━━━━━━━━━━━\u001b[0m \u001b[32m49.5/49.5 kB\u001b[0m \u001b[31m2.7 MB/s\u001b[0m eta \u001b[36m0:00:00\u001b[0m\n",
            "\u001b[?25hDownloading python_dotenv-1.0.1-py3-none-any.whl (19 kB)\n",
            "Downloading typing_inspect-0.9.0-py3-none-any.whl (8.8 kB)\n",
            "Downloading mypy_extensions-1.0.0-py3-none-any.whl (4.7 kB)\n",
            "Installing collected packages: python-dotenv, mypy-extensions, marshmallow, httpx-sse, typing-inspect, pydantic-settings, dataclasses-json, langchain-core, langchain, langchain-community\n",
            "  Attempting uninstall: langchain-core\n",
            "    Found existing installation: langchain-core 0.3.13\n",
            "    Uninstalling langchain-core-0.3.13:\n",
            "      Successfully uninstalled langchain-core-0.3.13\n",
            "  Attempting uninstall: langchain\n",
            "    Found existing installation: langchain 0.3.4\n",
            "    Uninstalling langchain-0.3.4:\n",
            "      Successfully uninstalled langchain-0.3.4\n",
            "Successfully installed dataclasses-json-0.6.7 httpx-sse-0.4.0 langchain-0.3.6 langchain-community-0.3.4 langchain-core-0.3.14 marshmallow-3.23.0 mypy-extensions-1.0.0 pydantic-settings-2.6.0 python-dotenv-1.0.1 typing-inspect-0.9.0\n",
            "Collecting langgraph\n",
            "  Downloading langgraph-0.2.41-py3-none-any.whl.metadata (13 kB)\n",
            "Requirement already satisfied: langchain-core!=0.3.0,!=0.3.1,!=0.3.10,!=0.3.11,!=0.3.12,!=0.3.13,!=0.3.2,!=0.3.3,!=0.3.4,!=0.3.5,!=0.3.6,!=0.3.7,!=0.3.8,!=0.3.9,<0.4.0,>=0.2.42 in /usr/local/lib/python3.10/dist-packages (from langgraph) (0.3.14)\n",
            "Collecting langgraph-checkpoint<3.0.0,>=2.0.0 (from langgraph)\n",
            "  Downloading langgraph_checkpoint-2.0.2-py3-none-any.whl.metadata (4.6 kB)\n",
            "Collecting langgraph-sdk<0.2.0,>=0.1.32 (from langgraph)\n",
            "  Downloading langgraph_sdk-0.1.35-py3-none-any.whl.metadata (1.8 kB)\n",
            "Requirement already satisfied: PyYAML>=5.3 in /usr/local/lib/python3.10/dist-packages (from langchain-core!=0.3.0,!=0.3.1,!=0.3.10,!=0.3.11,!=0.3.12,!=0.3.13,!=0.3.2,!=0.3.3,!=0.3.4,!=0.3.5,!=0.3.6,!=0.3.7,!=0.3.8,!=0.3.9,<0.4.0,>=0.2.42->langgraph) (6.0.2)\n",
            "Requirement already satisfied: jsonpatch<2.0,>=1.33 in /usr/local/lib/python3.10/dist-packages (from langchain-core!=0.3.0,!=0.3.1,!=0.3.10,!=0.3.11,!=0.3.12,!=0.3.13,!=0.3.2,!=0.3.3,!=0.3.4,!=0.3.5,!=0.3.6,!=0.3.7,!=0.3.8,!=0.3.9,<0.4.0,>=0.2.42->langgraph) (1.33)\n",
            "Requirement already satisfied: langsmith<0.2.0,>=0.1.125 in /usr/local/lib/python3.10/dist-packages (from langchain-core!=0.3.0,!=0.3.1,!=0.3.10,!=0.3.11,!=0.3.12,!=0.3.13,!=0.3.2,!=0.3.3,!=0.3.4,!=0.3.5,!=0.3.6,!=0.3.7,!=0.3.8,!=0.3.9,<0.4.0,>=0.2.42->langgraph) (0.1.137)\n",
            "Requirement already satisfied: packaging<25,>=23.2 in /usr/local/lib/python3.10/dist-packages (from langchain-core!=0.3.0,!=0.3.1,!=0.3.10,!=0.3.11,!=0.3.12,!=0.3.13,!=0.3.2,!=0.3.3,!=0.3.4,!=0.3.5,!=0.3.6,!=0.3.7,!=0.3.8,!=0.3.9,<0.4.0,>=0.2.42->langgraph) (24.1)\n",
            "Requirement already satisfied: pydantic<3.0.0,>=2.5.2 in /usr/local/lib/python3.10/dist-packages (from langchain-core!=0.3.0,!=0.3.1,!=0.3.10,!=0.3.11,!=0.3.12,!=0.3.13,!=0.3.2,!=0.3.3,!=0.3.4,!=0.3.5,!=0.3.6,!=0.3.7,!=0.3.8,!=0.3.9,<0.4.0,>=0.2.42->langgraph) (2.9.2)\n",
            "Requirement already satisfied: tenacity!=8.4.0,<10.0.0,>=8.1.0 in /usr/local/lib/python3.10/dist-packages (from langchain-core!=0.3.0,!=0.3.1,!=0.3.10,!=0.3.11,!=0.3.12,!=0.3.13,!=0.3.2,!=0.3.3,!=0.3.4,!=0.3.5,!=0.3.6,!=0.3.7,!=0.3.8,!=0.3.9,<0.4.0,>=0.2.42->langgraph) (9.0.0)\n",
            "Requirement already satisfied: typing-extensions>=4.7 in /usr/local/lib/python3.10/dist-packages (from langchain-core!=0.3.0,!=0.3.1,!=0.3.10,!=0.3.11,!=0.3.12,!=0.3.13,!=0.3.2,!=0.3.3,!=0.3.4,!=0.3.5,!=0.3.6,!=0.3.7,!=0.3.8,!=0.3.9,<0.4.0,>=0.2.42->langgraph) (4.12.2)\n",
            "Requirement already satisfied: msgpack<2.0.0,>=1.1.0 in /usr/local/lib/python3.10/dist-packages (from langgraph-checkpoint<3.0.0,>=2.0.0->langgraph) (1.1.0)\n",
            "Requirement already satisfied: httpx>=0.25.2 in /usr/local/lib/python3.10/dist-packages (from langgraph-sdk<0.2.0,>=0.1.32->langgraph) (0.27.2)\n",
            "Requirement already satisfied: httpx-sse>=0.4.0 in /usr/local/lib/python3.10/dist-packages (from langgraph-sdk<0.2.0,>=0.1.32->langgraph) (0.4.0)\n",
            "Requirement already satisfied: orjson>=3.10.1 in /usr/local/lib/python3.10/dist-packages (from langgraph-sdk<0.2.0,>=0.1.32->langgraph) (3.10.10)\n",
            "Requirement already satisfied: anyio in /usr/local/lib/python3.10/dist-packages (from httpx>=0.25.2->langgraph-sdk<0.2.0,>=0.1.32->langgraph) (3.7.1)\n",
            "Requirement already satisfied: certifi in /usr/local/lib/python3.10/dist-packages (from httpx>=0.25.2->langgraph-sdk<0.2.0,>=0.1.32->langgraph) (2024.8.30)\n",
            "Requirement already satisfied: httpcore==1.* in /usr/local/lib/python3.10/dist-packages (from httpx>=0.25.2->langgraph-sdk<0.2.0,>=0.1.32->langgraph) (1.0.6)\n",
            "Requirement already satisfied: idna in /usr/local/lib/python3.10/dist-packages (from httpx>=0.25.2->langgraph-sdk<0.2.0,>=0.1.32->langgraph) (3.10)\n",
            "Requirement already satisfied: sniffio in /usr/local/lib/python3.10/dist-packages (from httpx>=0.25.2->langgraph-sdk<0.2.0,>=0.1.32->langgraph) (1.3.1)\n",
            "Requirement already satisfied: h11<0.15,>=0.13 in /usr/local/lib/python3.10/dist-packages (from httpcore==1.*->httpx>=0.25.2->langgraph-sdk<0.2.0,>=0.1.32->langgraph) (0.14.0)\n",
            "Requirement already satisfied: jsonpointer>=1.9 in /usr/local/lib/python3.10/dist-packages (from jsonpatch<2.0,>=1.33->langchain-core!=0.3.0,!=0.3.1,!=0.3.10,!=0.3.11,!=0.3.12,!=0.3.13,!=0.3.2,!=0.3.3,!=0.3.4,!=0.3.5,!=0.3.6,!=0.3.7,!=0.3.8,!=0.3.9,<0.4.0,>=0.2.42->langgraph) (3.0.0)\n",
            "Requirement already satisfied: requests<3,>=2 in /usr/local/lib/python3.10/dist-packages (from langsmith<0.2.0,>=0.1.125->langchain-core!=0.3.0,!=0.3.1,!=0.3.10,!=0.3.11,!=0.3.12,!=0.3.13,!=0.3.2,!=0.3.3,!=0.3.4,!=0.3.5,!=0.3.6,!=0.3.7,!=0.3.8,!=0.3.9,<0.4.0,>=0.2.42->langgraph) (2.32.3)\n",
            "Requirement already satisfied: requests-toolbelt<2.0.0,>=1.0.0 in /usr/local/lib/python3.10/dist-packages (from langsmith<0.2.0,>=0.1.125->langchain-core!=0.3.0,!=0.3.1,!=0.3.10,!=0.3.11,!=0.3.12,!=0.3.13,!=0.3.2,!=0.3.3,!=0.3.4,!=0.3.5,!=0.3.6,!=0.3.7,!=0.3.8,!=0.3.9,<0.4.0,>=0.2.42->langgraph) (1.0.0)\n",
            "Requirement already satisfied: annotated-types>=0.6.0 in /usr/local/lib/python3.10/dist-packages (from pydantic<3.0.0,>=2.5.2->langchain-core!=0.3.0,!=0.3.1,!=0.3.10,!=0.3.11,!=0.3.12,!=0.3.13,!=0.3.2,!=0.3.3,!=0.3.4,!=0.3.5,!=0.3.6,!=0.3.7,!=0.3.8,!=0.3.9,<0.4.0,>=0.2.42->langgraph) (0.7.0)\n",
            "Requirement already satisfied: pydantic-core==2.23.4 in /usr/local/lib/python3.10/dist-packages (from pydantic<3.0.0,>=2.5.2->langchain-core!=0.3.0,!=0.3.1,!=0.3.10,!=0.3.11,!=0.3.12,!=0.3.13,!=0.3.2,!=0.3.3,!=0.3.4,!=0.3.5,!=0.3.6,!=0.3.7,!=0.3.8,!=0.3.9,<0.4.0,>=0.2.42->langgraph) (2.23.4)\n",
            "Requirement already satisfied: charset-normalizer<4,>=2 in /usr/local/lib/python3.10/dist-packages (from requests<3,>=2->langsmith<0.2.0,>=0.1.125->langchain-core!=0.3.0,!=0.3.1,!=0.3.10,!=0.3.11,!=0.3.12,!=0.3.13,!=0.3.2,!=0.3.3,!=0.3.4,!=0.3.5,!=0.3.6,!=0.3.7,!=0.3.8,!=0.3.9,<0.4.0,>=0.2.42->langgraph) (3.4.0)\n",
            "Requirement already satisfied: urllib3<3,>=1.21.1 in /usr/local/lib/python3.10/dist-packages (from requests<3,>=2->langsmith<0.2.0,>=0.1.125->langchain-core!=0.3.0,!=0.3.1,!=0.3.10,!=0.3.11,!=0.3.12,!=0.3.13,!=0.3.2,!=0.3.3,!=0.3.4,!=0.3.5,!=0.3.6,!=0.3.7,!=0.3.8,!=0.3.9,<0.4.0,>=0.2.42->langgraph) (2.2.3)\n",
            "Requirement already satisfied: exceptiongroup in /usr/local/lib/python3.10/dist-packages (from anyio->httpx>=0.25.2->langgraph-sdk<0.2.0,>=0.1.32->langgraph) (1.2.2)\n",
            "Downloading langgraph-0.2.41-py3-none-any.whl (117 kB)\n",
            "\u001b[2K   \u001b[90m━━━━━━━━━━━━━━━━━━━━━━━━━━━━━━━━━━━━━━━━\u001b[0m \u001b[32m117.3/117.3 kB\u001b[0m \u001b[31m4.5 MB/s\u001b[0m eta \u001b[36m0:00:00\u001b[0m\n",
            "\u001b[?25hDownloading langgraph_checkpoint-2.0.2-py3-none-any.whl (23 kB)\n",
            "Downloading langgraph_sdk-0.1.35-py3-none-any.whl (28 kB)\n",
            "Installing collected packages: langgraph-sdk, langgraph-checkpoint, langgraph\n",
            "Successfully installed langgraph-0.2.41 langgraph-checkpoint-2.0.2 langgraph-sdk-0.1.35\n"
          ]
        }
      ],
      "source": [
        "!pip install langchain\n",
        "!pip install langchain-openai\n",
        "!pip install langchain-community\n",
        "!pip install langgraph"
      ]
    },
    {
      "cell_type": "code",
      "source": [
        "from getpass import getpass\n",
        "\n",
        "OPENAI_KEY = getpass('Enter your OpenAI key: ')\n"
      ],
      "metadata": {
        "colab": {
          "base_uri": "https://localhost:8080/"
        },
        "id": "Az9WxOww6vup",
        "outputId": "fe72c718-bd62-4772-e49f-66ac89868d44"
      },
      "execution_count": 2,
      "outputs": [
        {
          "name": "stdout",
          "output_type": "stream",
          "text": [
            "Enter your OpenAI key: ··········\n"
          ]
        }
      ]
    },
    {
      "cell_type": "markdown",
      "source": [
        "## Tavily\\\n"
      ],
      "metadata": {
        "id": "riN4SiDL-ZjW"
      }
    },
    {
      "cell_type": "code",
      "source": [
        "TAVILY_API_KEY = getpass('Enter Tavily Search API Key : ')"
      ],
      "metadata": {
        "colab": {
          "base_uri": "https://localhost:8080/"
        },
        "id": "WopwGCiq-b8O",
        "outputId": "0a0d2d92-602f-4a5d-d15a-a71d27f034f2"
      },
      "execution_count": 3,
      "outputs": [
        {
          "name": "stdout",
          "output_type": "stream",
          "text": [
            "Enter Tavily Search API Key : ··········\n"
          ]
        }
      ]
    },
    {
      "cell_type": "code",
      "source": [
        "WEATHER_API_KEY = getpass('Enter WeatherAPI key :')"
      ],
      "metadata": {
        "colab": {
          "base_uri": "https://localhost:8080/"
        },
        "id": "vUUT-fbv-gd3",
        "outputId": "c747d282-8256-4f73-a787-006ced3af6d1"
      },
      "execution_count": 4,
      "outputs": [
        {
          "name": "stdout",
          "output_type": "stream",
          "text": [
            "Enter WeatherAPI key :··········\n"
          ]
        }
      ]
    },
    {
      "cell_type": "code",
      "source": [
        "import os\n",
        "os.environ['TAVILY_API_KEY'] = TAVILY_API_KEY\n"
      ],
      "metadata": {
        "id": "3yJcGrJVBwM7"
      },
      "execution_count": 5,
      "outputs": []
    },
    {
      "cell_type": "code",
      "source": [
        "from langchain_community.tools.tavily_search import TavilySearchResults\n",
        "from langchain_core.tools import tool\n",
        "import json\n",
        "import requests\n",
        "\n",
        "tv_search = TavilySearchResults(max_results = 3, search_depth = 'advanced',\n",
        "                                max_tokens = 10000)\n",
        "\n",
        "@tool\n",
        "def search_web(query:str) -> list:\n",
        "  \"\"\"Search the web for a query\"\"\"\n",
        "  tavily_tool = TavilySearchResults(max_result = 2)\n",
        "  results = tavily_tool.invoke(query)\n",
        "  return results\n",
        "\n",
        "\n",
        "@tool\n",
        "def get_weather(query: str) -> list:\n",
        "  \"\"\"Get the weather for a location\"\"\"\n",
        "  base_url = \"https://api.weatherapi.com/v1/current.json\"\n",
        "  complete_url = f\"{base_url}?key={WEATHER_API_KEY}&q={query}\"\n",
        "  response = requests.get(complete_url)\n",
        "  data = response.json\n",
        "\n",
        "  if data.get(\"location\"):\n",
        "    return data\n",
        "  else:\n",
        "    return \"weather data not found\""
      ],
      "metadata": {
        "id": "Of-2JskHAOEr"
      },
      "execution_count": 6,
      "outputs": []
    },
    {
      "cell_type": "code",
      "source": [],
      "metadata": {
        "id": "QeAPZD1-Bovz"
      },
      "execution_count": 6,
      "outputs": []
    },
    {
      "cell_type": "markdown",
      "source": [
        "### Test Tool Calling with LLM"
      ],
      "metadata": {
        "id": "aXy0ygCdCEdi"
      }
    },
    {
      "cell_type": "code",
      "source": [
        "from langchain_openai import ChatOpenAI\n",
        "\n",
        "chatgpt = ChatOpenAI(model = 'gpt-3.5-turbo', temperature = 0.0, openai_api_key = OPENAI_KEY)\n",
        "tools = [search_web,get_weather]\n",
        "\n",
        "chatgpt_with_tools = chatgpt.bind_tools(tools = tools)\n"
      ],
      "metadata": {
        "id": "3VwNzfVbCGTP"
      },
      "execution_count": 7,
      "outputs": []
    },
    {
      "cell_type": "code",
      "source": [
        "prompt = \"who won the champions league in 2024\"\n",
        "response = chatgpt_with_tools.invoke(prompt)\n",
        "response.tool_calls"
      ],
      "metadata": {
        "colab": {
          "base_uri": "https://localhost:8080/"
        },
        "id": "THykPhXaDX3n",
        "outputId": "915accdb-005d-444a-9bc4-975f9f682e9d"
      },
      "execution_count": 8,
      "outputs": [
        {
          "output_type": "execute_result",
          "data": {
            "text/plain": [
              "[{'name': 'search_web',\n",
              "  'args': {'query': 'Champions League winner 2024'},\n",
              "  'id': 'call_KSk6VAkmqZkZsFSYudzOJAja',\n",
              "  'type': 'tool_call'}]"
            ]
          },
          "metadata": {},
          "execution_count": 8
        }
      ]
    },
    {
      "cell_type": "code",
      "source": [
        "prompt= \"how is the weather in Pune today?\"\n",
        "response = chatgpt_with_tools.invoke(prompt)\n",
        "response.tool_calls"
      ],
      "metadata": {
        "colab": {
          "base_uri": "https://localhost:8080/"
        },
        "id": "ylzrJEBXDhrk",
        "outputId": "d110351d-00aa-4943-cf49-b199e9d4ef35"
      },
      "execution_count": 9,
      "outputs": [
        {
          "output_type": "execute_result",
          "data": {
            "text/plain": [
              "[{'name': 'get_weather',\n",
              "  'args': {'query': 'Pune'},\n",
              "  'id': 'call_W3ytn4oT0y8KuIxG3jufQLl2',\n",
              "  'type': 'tool_call'}]"
            ]
          },
          "metadata": {},
          "execution_count": 9
        }
      ]
    },
    {
      "cell_type": "markdown",
      "source": [
        "### Build and Test AI Agent with LangGraph Pre-built Agent"
      ],
      "metadata": {
        "id": "L8mxMfrcELIY"
      }
    },
    {
      "cell_type": "code",
      "source": [
        "from langchain_core.prompts import ChatPromptTemplate, MessagesPlaceholder\n",
        "\n",
        "SYS_PROMPT = \"\"\"Act as a helpful assistant.\n",
        "                Use the tolls at your disposal to perform tasks as needed.\n",
        "                 - get_weather : whenver user asks get the weather of a place\n",
        "                 - search_web : whenver user asks search the web for a query\n",
        "             \"\"\"\n",
        "prompt_template = ChatPromptTemplate.from_messages(\n",
        "    [\n",
        "        (\"system\",SYS_PROMPT),\n",
        "        MessagesPlaceholder(variable_name = \"messages\")\n",
        "    ]\n",
        ")\n",
        "\n",
        "def add_sys_prompt(messages):\n",
        "  return prompt_template.invoke({'messages': messages}).to_messages()"
      ],
      "metadata": {
        "id": "ez7F__4jEQlg"
      },
      "execution_count": 10,
      "outputs": []
    },
    {
      "cell_type": "code",
      "source": [
        "from langgraph.prebuilt import create_react_agent\n",
        "\n",
        "agent = create_react_agent(chatgpt, tools = tools,\n",
        "                           messages_modifier=add_sys_prompt)"
      ],
      "metadata": {
        "colab": {
          "base_uri": "https://localhost:8080/"
        },
        "id": "yJIS5xa2NRWk",
        "outputId": "45a566d9-f076-4086-8d1f-477c8528c5af"
      },
      "execution_count": 11,
      "outputs": [
        {
          "output_type": "stream",
          "name": "stderr",
          "text": [
            "<ipython-input-11-fb95a732cab3>:3: LangGraphDeprecationWarning: Parameter 'messages_modifier' in function 'create_react_agent' is deprecated as of version 0.1.9 and will be removed in version 0.3.0. Use 'state_modifier' parameter instead.\n",
            "  agent = create_react_agent(chatgpt, tools = tools,\n"
          ]
        }
      ]
    },
    {
      "cell_type": "markdown",
      "source": [
        "### Visualizing agent architecture"
      ],
      "metadata": {
        "id": "VEBqbkCXOdiS"
      }
    },
    {
      "cell_type": "code",
      "source": [
        "from IPython.display import Image,display\n",
        "\n",
        "display(Image(agent.get_graph().draw_mermaid_png()))"
      ],
      "metadata": {
        "colab": {
          "base_uri": "https://localhost:8080/",
          "height": 266
        },
        "id": "8Z1NsIL-OfeV",
        "outputId": "d44c6cf7-b0e9-4c5d-f015-12fac8773e0f"
      },
      "execution_count": 12,
      "outputs": [
        {
          "output_type": "display_data",
          "data": {
            "image/jpeg": "[encoded data removed]",
            "text/plain": [
              "<IPython.core.display.Image object>"
            ]
          },
          "metadata": {}
        }
      ]
    },
    {
      "cell_type": "code",
      "source": [
        "query = \"\"\"Tell me who won the champions league in 2024,\n",
        "            show some detailed information about the match also\n",
        "        \"\"\"\n",
        "response = agent.invoke({\"messages\": [('user', query)]})\n",
        "response"
      ],
      "metadata": {
        "colab": {
          "base_uri": "https://localhost:8080/"
        },
        "id": "pztc5BfiOpWa",
        "outputId": "353ccc5f-e938-4c49-fc30-62ad6d6e4027"
      },
      "execution_count": 13,
      "outputs": [
        {
          "output_type": "execute_result",
          "data": {
            "text/plain": [
              "{'messages': [HumanMessage(content='Tell me who won the champions league in 2024,\\n            show some detailed information about the match also\\n        ', additional_kwargs={}, response_metadata={}, id='c8d3fd87-0493-42ac-b274-99079d52f58f'),\n",
              "  AIMessage(content='', additional_kwargs={'tool_calls': [{'id': 'call_O6MBCq0cKC2c6Iwk6nkuM1wX', 'function': {'arguments': '{\"query\":\"Champions League winner 2024\"}', 'name': 'search_web'}, 'type': 'function'}], 'refusal': None}, response_metadata={'token_usage': {'completion_tokens': 20, 'prompt_tokens': 144, 'total_tokens': 164, 'completion_tokens_details': {'audio_tokens': None, 'reasoning_tokens': 0}, 'prompt_tokens_details': {'audio_tokens': None, 'cached_tokens': 0}}, 'model_name': 'gpt-3.5-turbo-0125', 'system_fingerprint': None, 'finish_reason': 'tool_calls', 'logprobs': None}, id='run-5b66c7eb-0500-46ac-9321-f391d4e0bdd4-0', tool_calls=[{'name': 'search_web', 'args': {'query': 'Champions League winner 2024'}, 'id': 'call_O6MBCq0cKC2c6Iwk6nkuM1wX', 'type': 'tool_call'}], usage_metadata={'input_tokens': 144, 'output_tokens': 20, 'total_tokens': 164, 'input_token_details': {'cache_read': 0}, 'output_token_details': {'reasoning': 0}}),\n",
              "  ToolMessage(content='[{\"url\": \"https://www.uefa.com/uefachampionsleague/news/028e-1b07e18d875a-ba78e4b9d9fc-1000--real-madrid-win-champions-league-carvajal-and-vinicius-jun/\", \"content\": \"Live 01/06/2024 Champions League winners by nation Joselu became the 79th Spaniard to feature in a final win in 2024, with Jude Bellingham the 70th English player.\"}, {\"url\": \"https://www.sportingnews.com/us/champions-league/news/champions-league-final-2024-live-score-result-real-madrid-dortmund/0a034fd36e18781a619e15f1\", \"content\": \"Champions League final 2024 kick off time Borussia Dortmund vs. Real Madrid takes place at Wembley Stadium in London, UK and kicks off on Saturday, June 1 at 8:00 p.m. local time.\"}, {\"url\": \"https://www.nytimes.com/athletic/live-blogs/real-madrid-dortmund-live-updates-champions-league-final-2024-score-result/Ovn4uExc188E/\", \"content\": \"June 3, 2024 at 11:55 AM EDT. ... Real Madrid have won the European Cup/Champions League final for the 15th time (against just three losses), more than double every other team in history.\"}, {\"url\": \"https://apnews.com/article/champions-league-final-madrid-dortmund-e6c0674ba9ed19e0cb8d28d0a3bc96ce\", \"content\": \"Dortmund\\'s Karim Adeyemi, center, gets past Real Madrid\\'s goalkeeper Thibaut Courtois, on the ground, but takes the ball too far wide to score during the Champions League final soccer match between Borussia Dortmund and Real Madrid at Wembley stadium in London, Sunday, June 2, 2024. (AP Photo/Frank Augstein)\"}, {\"url\": \"https://www.uefa.com/uefachampionsleague/news/028d-1ad799ae4525-365c9c4d1986-1000--real-madrid-win-the-2023-24-uefa-champions-league-meet-the/\", \"content\": \"Live 01/06/2024 Champions League final lowdown The best of the best will be crowned at London\\'s Wembley Stadium on 1 June. Live 01/06/2024 Final records and statistics We open the final record\"}]', name='search_web', id='4b3d0937-8c2e-4096-91fe-48dcaf0df08c', tool_call_id='call_O6MBCq0cKC2c6Iwk6nkuM1wX'),\n",
              "  AIMessage(content='Real Madrid won the Champions League in 2024. The final match was between Borussia Dortmund and Real Madrid at Wembley Stadium in London, UK. Real Madrid emerged victorious, winning the European Cup/Champions League final for the 15th time. The match took place on June 1, 2024, with Real Madrid securing the title. If you would like more detailed information about the match, please let me know.', additional_kwargs={'refusal': None}, response_metadata={'token_usage': {'completion_tokens': 90, 'prompt_tokens': 732, 'total_tokens': 822, 'completion_tokens_details': {'audio_tokens': None, 'reasoning_tokens': 0}, 'prompt_tokens_details': {'audio_tokens': None, 'cached_tokens': 0}}, 'model_name': 'gpt-3.5-turbo-0125', 'system_fingerprint': None, 'finish_reason': 'stop', 'logprobs': None}, id='run-e1f22a72-788c-4033-878e-be57dfa5ab69-0', usage_metadata={'input_tokens': 732, 'output_tokens': 90, 'total_tokens': 822, 'input_token_details': {'cache_read': 0}, 'output_token_details': {'reasoning': 0}})]}"
            ]
          },
          "metadata": {},
          "execution_count": 13
        }
      ]
    },
    {
      "cell_type": "code",
      "source": [
        "from IPython.display import display,Markdown\n",
        "\n",
        "display(Markdown(response['messages'][-1].content))"
      ],
      "metadata": {
        "colab": {
          "base_uri": "https://localhost:8080/",
          "height": 81
        },
        "id": "1F8naiBUPCdS",
        "outputId": "154660b9-abc9-45e8-eb57-547cc8c16a07"
      },
      "execution_count": 14,
      "outputs": [
        {
          "output_type": "display_data",
          "data": {
            "text/plain": [
              "<IPython.core.display.Markdown object>"
            ],
            "text/markdown": "Real Madrid won the Champions League in 2024. The final match was between Borussia Dortmund and Real Madrid at Wembley Stadium in London, UK. Real Madrid emerged victorious, winning the European Cup/Champions League final for the 15th time. The match took place on June 1, 2024, with Real Madrid securing the title. If you would like more detailed information about the match, please let me know."
          },
          "metadata": {}
        }
      ]
    },
    {
      "cell_type": "code",
      "source": [
        "query = \"\"\"how is the weather in Pune, Maharashtra today?\"\"\"\n",
        "response = agent.invoke({\"messages\": [('user', query)]},{\"recursion_limit\": 30})\n",
        "response"
      ],
      "metadata": {
        "colab": {
          "base_uri": "https://localhost:8080/"
        },
        "id": "Eq3pgmOvhmqF",
        "outputId": "7b42e1c6-00a7-4217-9f14-75919419cc8e"
      },
      "execution_count": 15,
      "outputs": [
        {
          "output_type": "execute_result",
          "data": {
            "text/plain": [
              "{'messages': [HumanMessage(content='how is the weather in Pune, Maharashtra today?', additional_kwargs={}, response_metadata={}, id='c1d06a12-3ff9-4eef-9e4b-658210e50be7'),\n",
              "  AIMessage(content='', additional_kwargs={'tool_calls': [{'id': 'call_OEbPkNomxS2n7oEe6BzgIFHp', 'function': {'arguments': '{\"query\":\"Pune, Maharashtra\"}', 'name': 'get_weather'}, 'type': 'function'}], 'refusal': None}, response_metadata={'token_usage': {'completion_tokens': 17, 'prompt_tokens': 131, 'total_tokens': 148, 'completion_tokens_details': {'audio_tokens': None, 'reasoning_tokens': 0}, 'prompt_tokens_details': {'audio_tokens': None, 'cached_tokens': 0}}, 'model_name': 'gpt-3.5-turbo-0125', 'system_fingerprint': None, 'finish_reason': 'tool_calls', 'logprobs': None}, id='run-79ccd086-aebf-4193-ae3b-4114b8ff350a-0', tool_calls=[{'name': 'get_weather', 'args': {'query': 'Pune, Maharashtra'}, 'id': 'call_OEbPkNomxS2n7oEe6BzgIFHp', 'type': 'tool_call'}], usage_metadata={'input_tokens': 131, 'output_tokens': 17, 'total_tokens': 148, 'input_token_details': {'cache_read': 0}, 'output_token_details': {'reasoning': 0}}),\n",
              "  ToolMessage(content='Error: AttributeError(\"\\'function\\' object has no attribute \\'get\\'\")\\n Please fix your mistakes.', name='get_weather', id='c4858c9c-fc8c-48a0-a896-bd88d18ac25d', tool_call_id='call_OEbPkNomxS2n7oEe6BzgIFHp', status='error'),\n",
              "  AIMessage(content='', additional_kwargs={'tool_calls': [{'id': 'call_gMQD16X9R5j2Of7tAZnTPCgI', 'function': {'arguments': '{\"query\":\"Pune, Maharashtra\"}', 'name': 'get_weather'}, 'type': 'function'}], 'refusal': None}, response_metadata={'token_usage': {'completion_tokens': 17, 'prompt_tokens': 174, 'total_tokens': 191, 'completion_tokens_details': {'audio_tokens': None, 'reasoning_tokens': 0}, 'prompt_tokens_details': {'audio_tokens': None, 'cached_tokens': 0}}, 'model_name': 'gpt-3.5-turbo-0125', 'system_fingerprint': None, 'finish_reason': 'tool_calls', 'logprobs': None}, id='run-02048e5c-dfa0-42f1-88bc-4046803f9341-0', tool_calls=[{'name': 'get_weather', 'args': {'query': 'Pune, Maharashtra'}, 'id': 'call_gMQD16X9R5j2Of7tAZnTPCgI', 'type': 'tool_call'}], usage_metadata={'input_tokens': 174, 'output_tokens': 17, 'total_tokens': 191, 'input_token_details': {'cache_read': 0}, 'output_token_details': {'reasoning': 0}}),\n",
              "  ToolMessage(content='Error: AttributeError(\"\\'function\\' object has no attribute \\'get\\'\")\\n Please fix your mistakes.', name='get_weather', id='7a6e9ced-ff4b-44b3-ad23-bfb0611c8533', tool_call_id='call_gMQD16X9R5j2Of7tAZnTPCgI', status='error'),\n",
              "  AIMessage(content='', additional_kwargs={'tool_calls': [{'id': 'call_Ja1o3hleZaV4yP9mnLihknQ7', 'function': {'arguments': '{\"query\": \"Pune, Maharashtra\"}', 'name': 'get_weather'}, 'type': 'function'}], 'refusal': None}, response_metadata={'token_usage': {'completion_tokens': 32, 'prompt_tokens': 217, 'total_tokens': 249, 'completion_tokens_details': {'audio_tokens': None, 'reasoning_tokens': 0}, 'prompt_tokens_details': {'audio_tokens': None, 'cached_tokens': 0}}, 'model_name': 'gpt-3.5-turbo-0125', 'system_fingerprint': None, 'finish_reason': 'tool_calls', 'logprobs': None}, id='run-27e01546-b3c6-4419-bdee-76bf9cd0f2c4-0', tool_calls=[{'name': 'get_weather', 'args': {'query': 'Pune, Maharashtra'}, 'id': 'call_Ja1o3hleZaV4yP9mnLihknQ7', 'type': 'tool_call'}], usage_metadata={'input_tokens': 217, 'output_tokens': 32, 'total_tokens': 249, 'input_token_details': {'cache_read': 0}, 'output_token_details': {'reasoning': 0}}),\n",
              "  ToolMessage(content='Error: AttributeError(\"\\'function\\' object has no attribute \\'get\\'\")\\n Please fix your mistakes.', name='get_weather', id='8b40ceb2-1ec4-4c3e-bc32-9acb36325fa4', tool_call_id='call_Ja1o3hleZaV4yP9mnLihknQ7', status='error'),\n",
              "  AIMessage(content='', additional_kwargs={'tool_calls': [{'id': 'call_6cEH00kY3N6wtpv83LxokVl0', 'function': {'arguments': '{\"query\": \"Pune, Maharashtra\"}', 'name': 'get_weather'}, 'type': 'function'}], 'refusal': None}, response_metadata={'token_usage': {'completion_tokens': 32, 'prompt_tokens': 260, 'total_tokens': 292, 'completion_tokens_details': {'audio_tokens': None, 'reasoning_tokens': 0}, 'prompt_tokens_details': {'audio_tokens': None, 'cached_tokens': 0}}, 'model_name': 'gpt-3.5-turbo-0125', 'system_fingerprint': None, 'finish_reason': 'tool_calls', 'logprobs': None}, id='run-9ac11527-e394-4d99-92cf-0f4ccddcfb14-0', tool_calls=[{'name': 'get_weather', 'args': {'query': 'Pune, Maharashtra'}, 'id': 'call_6cEH00kY3N6wtpv83LxokVl0', 'type': 'tool_call'}], usage_metadata={'input_tokens': 260, 'output_tokens': 32, 'total_tokens': 292, 'input_token_details': {'cache_read': 0}, 'output_token_details': {'reasoning': 0}}),\n",
              "  ToolMessage(content='Error: AttributeError(\"\\'function\\' object has no attribute \\'get\\'\")\\n Please fix your mistakes.', name='get_weather', id='7af10559-981b-46f6-954c-dd65d1008aec', tool_call_id='call_6cEH00kY3N6wtpv83LxokVl0', status='error'),\n",
              "  AIMessage(content='It seems there was an error while trying to retrieve the weather information for Pune, Maharashtra. Let me try again to get the weather for you.', additional_kwargs={'tool_calls': [{'id': 'call_tjuwzdKZrVUpDpNTu4PTsour', 'function': {'arguments': '{\"query\": \"Pune, Maharashtra\"}', 'name': 'get_weather'}, 'type': 'function'}], 'refusal': None}, response_metadata={'token_usage': {'completion_tokens': 62, 'prompt_tokens': 303, 'total_tokens': 365, 'completion_tokens_details': {'audio_tokens': None, 'reasoning_tokens': 0}, 'prompt_tokens_details': {'audio_tokens': None, 'cached_tokens': 0}}, 'model_name': 'gpt-3.5-turbo-0125', 'system_fingerprint': None, 'finish_reason': 'tool_calls', 'logprobs': None}, id='run-7427d0e6-136d-4071-be8c-44a609a43463-0', tool_calls=[{'name': 'get_weather', 'args': {'query': 'Pune, Maharashtra'}, 'id': 'call_tjuwzdKZrVUpDpNTu4PTsour', 'type': 'tool_call'}], usage_metadata={'input_tokens': 303, 'output_tokens': 62, 'total_tokens': 365, 'input_token_details': {'cache_read': 0}, 'output_token_details': {'reasoning': 0}}),\n",
              "  ToolMessage(content='Error: AttributeError(\"\\'function\\' object has no attribute \\'get\\'\")\\n Please fix your mistakes.', name='get_weather', id='82cd16e7-70b1-42b4-980c-149ed5f419cc', tool_call_id='call_tjuwzdKZrVUpDpNTu4PTsour', status='error'),\n",
              "  AIMessage(content='', additional_kwargs={'tool_calls': [{'id': 'call_oovzQpX3xwK0NwLrJZqqokgh', 'function': {'arguments': '{\"query\":\"Pune, Maharashtra\"}', 'name': 'get_weather'}, 'type': 'function'}], 'refusal': None}, response_metadata={'token_usage': {'completion_tokens': 17, 'prompt_tokens': 379, 'total_tokens': 396, 'completion_tokens_details': {'audio_tokens': None, 'reasoning_tokens': 0}, 'prompt_tokens_details': {'audio_tokens': None, 'cached_tokens': 0}}, 'model_name': 'gpt-3.5-turbo-0125', 'system_fingerprint': None, 'finish_reason': 'tool_calls', 'logprobs': None}, id='run-badf496a-c39b-4bb1-88bc-3a5f160c7969-0', tool_calls=[{'name': 'get_weather', 'args': {'query': 'Pune, Maharashtra'}, 'id': 'call_oovzQpX3xwK0NwLrJZqqokgh', 'type': 'tool_call'}], usage_metadata={'input_tokens': 379, 'output_tokens': 17, 'total_tokens': 396, 'input_token_details': {'cache_read': 0}, 'output_token_details': {'reasoning': 0}}),\n",
              "  ToolMessage(content='Error: AttributeError(\"\\'function\\' object has no attribute \\'get\\'\")\\n Please fix your mistakes.', name='get_weather', id='c20e586a-3f56-4af6-9cc6-0ef00156ff74', tool_call_id='call_oovzQpX3xwK0NwLrJZqqokgh', status='error'),\n",
              "  AIMessage(content='', additional_kwargs={'tool_calls': [{'id': 'call_3gnLFr5IM19fufKUN2bmBr82', 'function': {'arguments': '{\"query\": \"Pune, Maharashtra\"}', 'name': 'get_weather'}, 'type': 'function'}], 'refusal': None}, response_metadata={'token_usage': {'completion_tokens': 32, 'prompt_tokens': 422, 'total_tokens': 454, 'completion_tokens_details': {'audio_tokens': None, 'reasoning_tokens': 0}, 'prompt_tokens_details': {'audio_tokens': None, 'cached_tokens': 0}}, 'model_name': 'gpt-3.5-turbo-0125', 'system_fingerprint': None, 'finish_reason': 'tool_calls', 'logprobs': None}, id='run-63f345a9-ec48-488b-9054-fad4563a5409-0', tool_calls=[{'name': 'get_weather', 'args': {'query': 'Pune, Maharashtra'}, 'id': 'call_3gnLFr5IM19fufKUN2bmBr82', 'type': 'tool_call'}], usage_metadata={'input_tokens': 422, 'output_tokens': 32, 'total_tokens': 454, 'input_token_details': {'cache_read': 0}, 'output_token_details': {'reasoning': 0}}),\n",
              "  ToolMessage(content='Error: AttributeError(\"\\'function\\' object has no attribute \\'get\\'\")\\n Please fix your mistakes.', name='get_weather', id='4420c81e-4169-47f8-bfcd-d7709989ee30', tool_call_id='call_3gnLFr5IM19fufKUN2bmBr82', status='error'),\n",
              "  AIMessage(content='', additional_kwargs={'tool_calls': [{'id': 'call_BBlKMliNtkI3LarrMpy7Aagx', 'function': {'arguments': '{\"query\":\"Pune, Maharashtra\"}', 'name': 'get_weather'}, 'type': 'function'}], 'refusal': None}, response_metadata={'token_usage': {'completion_tokens': 17, 'prompt_tokens': 465, 'total_tokens': 482, 'completion_tokens_details': {'audio_tokens': None, 'reasoning_tokens': 0}, 'prompt_tokens_details': {'audio_tokens': None, 'cached_tokens': 0}}, 'model_name': 'gpt-3.5-turbo-0125', 'system_fingerprint': None, 'finish_reason': 'tool_calls', 'logprobs': None}, id='run-37534b68-5224-407d-836b-def35d2795a2-0', tool_calls=[{'name': 'get_weather', 'args': {'query': 'Pune, Maharashtra'}, 'id': 'call_BBlKMliNtkI3LarrMpy7Aagx', 'type': 'tool_call'}], usage_metadata={'input_tokens': 465, 'output_tokens': 17, 'total_tokens': 482, 'input_token_details': {'cache_read': 0}, 'output_token_details': {'reasoning': 0}}),\n",
              "  ToolMessage(content='Error: AttributeError(\"\\'function\\' object has no attribute \\'get\\'\")\\n Please fix your mistakes.', name='get_weather', id='d125bb70-3d50-435e-9fd2-d4f4f57599e3', tool_call_id='call_BBlKMliNtkI3LarrMpy7Aagx', status='error'),\n",
              "  AIMessage(content='I encountered an error while trying to fetch the weather information for Pune, Maharashtra. Let me search the web for the weather in Pune, Maharashtra today.', additional_kwargs={'tool_calls': [{'id': 'call_JHVEgabYIUmy66osWXp2umID', 'function': {'arguments': '{\"query\":\"weather in Pune, Maharashtra today\"}', 'name': 'search_web'}, 'type': 'function'}], 'refusal': None}, response_metadata={'token_usage': {'completion_tokens': 50, 'prompt_tokens': 508, 'total_tokens': 558, 'completion_tokens_details': {'audio_tokens': None, 'reasoning_tokens': 0}, 'prompt_tokens_details': {'audio_tokens': None, 'cached_tokens': 0}}, 'model_name': 'gpt-3.5-turbo-0125', 'system_fingerprint': None, 'finish_reason': 'tool_calls', 'logprobs': None}, id='run-d1169914-62fa-4e1e-a673-4225ece8bbfa-0', tool_calls=[{'name': 'search_web', 'args': {'query': 'weather in Pune, Maharashtra today'}, 'id': 'call_JHVEgabYIUmy66osWXp2umID', 'type': 'tool_call'}], usage_metadata={'input_tokens': 508, 'output_tokens': 50, 'total_tokens': 558, 'input_token_details': {'cache_read': 0}, 'output_token_details': {'reasoning': 0}}),\n",
              "  ToolMessage(content='[{\"url\": \"https://www.weatherapi.com/\", \"content\": \"{\\'location\\': {\\'name\\': \\'Pune\\', \\'region\\': \\'Maharashtra\\', \\'country\\': \\'India\\', \\'lat\\': 18.5333, \\'lon\\': 73.8667, \\'tz_id\\': \\'Asia/Kolkata\\', \\'localtime_epoch\\': 1730367675, \\'localtime\\': \\'2024-10-31 15:11\\'}, \\'current\\': {\\'last_updated_epoch\\': 1730367000, \\'last_updated\\': \\'2024-10-31 15:00\\', \\'temp_c\\': 27.4, \\'temp_f\\': 81.4, \\'is_day\\': 1, \\'condition\\': {\\'text\\': \\'Cloudy\\', \\'icon\\': \\'//cdn.weatherapi.com/weather/64x64/day/119.png\\', \\'code\\': 1006}, \\'wind_mph\\': 6.9, \\'wind_kph\\': 11.2, \\'wind_degree\\': 31, \\'wind_dir\\': \\'NNE\\', \\'pressure_mb\\': 1010.0, \\'pressure_in\\': 29.82, \\'precip_mm\\': 0.0, \\'precip_in\\': 0.0, \\'humidity\\': 59, \\'cloud\\': 67, \\'feelslike_c\\': 28.8, \\'feelslike_f\\': 83.9, \\'windchill_c\\': 27.4, \\'windchill_f\\': 81.4, \\'heatindex_c\\': 28.8, \\'heatindex_f\\': 83.9, \\'dewpoint_c\\': 18.7, \\'dewpoint_f\\': 65.7, \\'vis_km\\': 10.0, \\'vis_miles\\': 6.0, \\'uv\\': 0.6, \\'gust_mph\\': 10.6, \\'gust_kph\\': 17.0}}\"}, {\"url\": \"https://www.hindustantimes.com/cities/pune-news/pune-weather-today-aqi-and-rain-forecast-updates-october-31-2024-101730338223060.html\", \"content\": \"The temperature in Pune today, on October 31, 2024, is 28.73 °C. The day\\'s forecast indicates a minimum and maximum temperature of 23.84 °C and 31.77 °C, respectively. The relative humidity is\"}, {\"url\": \"https://city.imd.gov.in/citywx/city_weather.php?id=43063\", \"content\": \"Local Weather Report and Forecast For: Pune-Shivajinagar Dated :Oct 28, 2024. Past 24 Hours Weather Data: Maximum Temp(o C) (Recorded on 27/10/24) 34.0: Departure from Normal(o C) 2.5: Minimum Temp (o C) (Recorded. on 28/10/24) 18.8: Departure from Normal(o C) 3.0: ... 31-Oct 20.0: 33.0: Thunderstorm with rain\"}, {\"url\": \"https://www.easeweather.com/asia/india/maharashtra/pune-division/pune/october\", \"content\": \"Until now, October 2024 in Pune is slightly cooler than the historical average by -0.7 ° C.. The forecast for the next days in Pune predicts temperatures to be around 31 ° C, close to the historical average.. In general, the average temperature in Pune at the beginning of October is 29.4 ° C.As the month progressed, temperatures tended to moderately rise, reaching an average of 30.6 ° C by\"}, {\"url\": \"https://world-weather.info/forecast/india/pune/october-2024/\", \"content\": \"Hourly Week 10-Day 14-Day 30-Day Year. Detailed ⚡ Pune Weather Forecast for October 2024 - day/night 🌡️ temperatures, precipitations - World-Weather.info.\"}]', name='search_web', id='88cf8c6c-cf5e-4c6c-a7e8-13a7cf2d6e1a', tool_call_id='call_JHVEgabYIUmy66osWXp2umID'),\n",
              "  AIMessage(content='I found some information about the weather in Pune, Maharashtra today:\\n\\n- The current temperature in Pune is 27.4°C with cloudy conditions.\\n- The wind speed is 11.2 km/h coming from the north-northeast direction.\\n- The humidity is at 59%.\\n- The visibility is 10.0 km.\\n- The UV index is 0.6.\\n\\nFor more detailed information, you can visit [Weather API](https://www.weatherapi.com/).', additional_kwargs={'refusal': None}, response_metadata={'token_usage': {'completion_tokens': 99, 'prompt_tokens': 1425, 'total_tokens': 1524, 'completion_tokens_details': {'audio_tokens': None, 'reasoning_tokens': 0}, 'prompt_tokens_details': {'audio_tokens': None, 'cached_tokens': 0}}, 'model_name': 'gpt-3.5-turbo-0125', 'system_fingerprint': None, 'finish_reason': 'stop', 'logprobs': None}, id='run-a907a291-dc7d-4b28-b192-66d940e61897-0', usage_metadata={'input_tokens': 1425, 'output_tokens': 99, 'total_tokens': 1524, 'input_token_details': {'cache_read': 0}, 'output_token_details': {'reasoning': 0}})]}"
            ]
          },
          "metadata": {},
          "execution_count": 15
        }
      ]
    },
    {
      "cell_type": "code",
      "source": [
        "display(Markdown(response[\"messages\"][-1].content))"
      ],
      "metadata": {
        "colab": {
          "base_uri": "https://localhost:8080/",
          "height": 162
        },
        "id": "MWR2iJxEiyPj",
        "outputId": "bfa495e5-b9a8-4c07-f2d5-8d99dc888fc9"
      },
      "execution_count": 16,
      "outputs": [
        {
          "output_type": "display_data",
          "data": {
            "text/plain": [
              "<IPython.core.display.Markdown object>"
            ],
            "text/markdown": "I found some information about the weather in Pune, Maharashtra today:\n\n- The current temperature in Pune is 27.4°C with cloudy conditions.\n- The wind speed is 11.2 km/h coming from the north-northeast direction.\n- The humidity is at 59%.\n- The visibility is 10.0 km.\n- The UV index is 0.6.\n\nFor more detailed information, you can visit [Weather API](https://www.weatherapi.com/)."
          },
          "metadata": {}
        }
      ]
    },
    {
      "cell_type": "code",
      "source": [
        "query = \"\"\"What have we discussed so far\"\"\"\n",
        "response = agent.invoke({\"messages\": [('user', query)]},{\"recursion_limit\": 30})\n",
        "response"
      ],
      "metadata": {
        "colab": {
          "base_uri": "https://localhost:8080/"
        },
        "id": "dOxcNN3DkH1o",
        "outputId": "81817f4c-e9e0-4586-ba53-b177f5b7e749"
      },
      "execution_count": 17,
      "outputs": [
        {
          "output_type": "execute_result",
          "data": {
            "text/plain": [
              "{'messages': [HumanMessage(content='What have we discussed so far', additional_kwargs={}, response_metadata={}, id='511f0282-6ae4-4749-8e26-3f1a6a93a754'),\n",
              "  AIMessage(content='We have not discussed anything yet. How can I assist you today?', additional_kwargs={'refusal': None}, response_metadata={'token_usage': {'completion_tokens': 15, 'prompt_tokens': 127, 'total_tokens': 142, 'completion_tokens_details': {'audio_tokens': None, 'reasoning_tokens': 0}, 'prompt_tokens_details': {'audio_tokens': None, 'cached_tokens': 0}}, 'model_name': 'gpt-3.5-turbo-0125', 'system_fingerprint': None, 'finish_reason': 'stop', 'logprobs': None}, id='run-836263a1-b680-40e3-8b04-ad05faf1fa76-0', usage_metadata={'input_tokens': 127, 'output_tokens': 15, 'total_tokens': 142, 'input_token_details': {'cache_read': 0}, 'output_token_details': {'reasoning': 0}})]}"
            ]
          },
          "metadata": {},
          "execution_count": 17
        }
      ]
    },
    {
      "cell_type": "code",
      "source": [
        "display(Markdown(response[\"messages\"][-1].content))"
      ],
      "metadata": {
        "colab": {
          "base_uri": "https://localhost:8080/",
          "height": 46
        },
        "id": "hj347_WjlLLT",
        "outputId": "274be686-a564-4328-ac81-7bebb3304eb0"
      },
      "execution_count": 18,
      "outputs": [
        {
          "output_type": "display_data",
          "data": {
            "text/plain": [
              "<IPython.core.display.Markdown object>"
            ],
            "text/markdown": "We have not discussed anything yet. How can I assist you today?"
          },
          "metadata": {}
        }
      ]
    },
    {
      "cell_type": "code",
      "source": [],
      "metadata": {
        "id": "yd-vMDNClOES"
      },
      "execution_count": 18,
      "outputs": []
    },
    {
      "cell_type": "markdown",
      "source": [
        "### The agent cannot remember conversations"
      ],
      "metadata": {
        "id": "zHl86bJ6lQNO"
      }
    },
    {
      "cell_type": "code",
      "source": [
        "##!rm memory.db*"
      ],
      "metadata": {
        "id": "IXE7KTmqlTMT"
      },
      "execution_count": 19,
      "outputs": []
    },
    {
      "cell_type": "code",
      "source": [
        "!pip install langgraph-checkpoint-sqlite"
      ],
      "metadata": {
        "id": "Bm5G6i8Oy6jL"
      },
      "execution_count": null,
      "outputs": []
    },
    {
      "cell_type": "code",
      "source": [
        "from langgraph.checkpoint.memory import MemorySaver\n",
        "from langgraph.checkpoint.sqlite import SqliteSaver\n",
        "from langgraph.checkpoint.sqlite.aio import AsyncSqliteSaver"
      ],
      "metadata": {
        "id": "Djb4g1qTyqtP"
      },
      "execution_count": null,
      "outputs": []
    },
    {
      "cell_type": "code",
      "source": [
        "#with SqliteSaver.from_conn_string(\"memory.db\") as memory:\n",
        "#memory = SqliteSaver.from_conn_string(\"memory.db\")\n",
        "# agentic_chatbot = create_react_agent(chatgpt,tools = tools,\n",
        "#                                      checkpointer = memory,\n",
        "#                                      messages_modifier = add_sys_prompt)\n",
        "\n",
        "def chat_with_agent(prompt:str,thread_id:str):\n",
        "\n",
        "  with SqliteSaver.from_conn_string(\"memory.db\") as memory:\n",
        "    agentic_chatbot = create_react_agent(chatgpt, tools = tools, messages_modifier=add_sys_prompt, checkpointer=memory)\n",
        "    thread = {\"configurable\": {\"thread_id\": \"1\"}}\n",
        "    for event in agentic_chatbot.stream({\"messages\": prompt}, thread):\n",
        "      for v in event.values():\n",
        "          print(v['messages'])\n",
        "    #response = agentic_chatbot.invoke({\"messages\":[(\"user\",prompt)]},\n",
        "     #                            {'configurable':{\"thread_id\":session_id}})\n",
        "          display(Markdown(v['messages'][-1].content))\n",
        " # return response"
      ],
      "metadata": {
        "id": "BxY6f5uwzeI8"
      },
      "execution_count": 51,
      "outputs": []
    },
    {
      "cell_type": "code",
      "source": [
        "user_id = 'ram001'\n",
        "prompt = \"who won the champions league in 2024\"\n",
        "chat_with_agent(prompt,user_id)"
      ],
      "metadata": {
        "colab": {
          "base_uri": "https://localhost:8080/",
          "height": 378
        },
        "id": "mWT-44k-z1Cp",
        "outputId": "c42e6914-517d-4e76-b4c4-f51ce0cbe201"
      },
      "execution_count": 52,
      "outputs": [
        {
          "output_type": "stream",
          "name": "stderr",
          "text": [
            "<ipython-input-51-531a6d6881ac>:10: LangGraphDeprecationWarning: Parameter 'messages_modifier' in function 'create_react_agent' is deprecated as of version 0.1.9 and will be removed in version 0.3.0. Use 'state_modifier' parameter instead.\n",
            "  agentic_chatbot = create_react_agent(chatgpt, tools = tools, messages_modifier=add_sys_prompt, checkpointer=memory)\n"
          ]
        },
        {
          "output_type": "stream",
          "name": "stdout",
          "text": [
            "[AIMessage(content='', additional_kwargs={'tool_calls': [{'id': 'call_oKnv1n0hNij3ycoWh9n0stuA', 'function': {'arguments': '{\"query\":\"Champions League winner 2024\"}', 'name': 'search_web'}, 'type': 'function'}], 'refusal': None}, response_metadata={'token_usage': {'completion_tokens': 20, 'prompt_tokens': 130, 'total_tokens': 150, 'completion_tokens_details': {'audio_tokens': None, 'reasoning_tokens': 0}, 'prompt_tokens_details': {'audio_tokens': None, 'cached_tokens': 0}}, 'model_name': 'gpt-3.5-turbo-0125', 'system_fingerprint': None, 'finish_reason': 'tool_calls', 'logprobs': None}, id='run-6e14c6aa-2eaf-4010-8cb4-30bed890be8f-0', tool_calls=[{'name': 'search_web', 'args': {'query': 'Champions League winner 2024'}, 'id': 'call_oKnv1n0hNij3ycoWh9n0stuA', 'type': 'tool_call'}], usage_metadata={'input_tokens': 130, 'output_tokens': 20, 'total_tokens': 150, 'input_token_details': {'cache_read': 0}, 'output_token_details': {'reasoning': 0}})]\n"
          ]
        },
        {
          "output_type": "display_data",
          "data": {
            "text/plain": [
              "<IPython.core.display.Markdown object>"
            ],
            "text/markdown": ""
          },
          "metadata": {}
        },
        {
          "output_type": "stream",
          "name": "stdout",
          "text": [
            "[ToolMessage(content='[{\"url\": \"https://www.uefa.com/uefachampionsleague/news/028e-1b07e18d875a-ba78e4b9d9fc-1000--real-madrid-win-champions-league-carvajal-and-vinicius-jun/\", \"content\": \"Live 01/06/2024 Champions League winners by nation Joselu became the 79th Spaniard to feature in a final win in 2024, with Jude Bellingham the 70th English player.\"}, {\"url\": \"https://www.nbclosangeles.com/news/sports/soccer/real-madrid-wins-2024-champions-league-title/3426540/\", \"content\": \"Real Madrid defeated Borussia Dortmund at Wembley Stadium to win the 2024 Champions League title. ... As well as three titles with Madrid, he was a two-time winner with AC Milan. He also lifted\"}, {\"url\": \"https://www.sportingnews.com/us/champions-league/news/champions-league-final-2024-live-score-result-real-madrid-dortmund/0a034fd36e18781a619e15f1\", \"content\": \"Champions League final 2024 kick off time Borussia Dortmund vs. Real Madrid takes place at Wembley Stadium in London, UK and kicks off on Saturday, June 1 at 8:00 p.m. local time.\"}, {\"url\": \"https://www.nytimes.com/athletic/live-blogs/real-madrid-dortmund-live-updates-champions-league-final-2024-score-result/Ovn4uExc188E/\", \"content\": \"June 3, 2024 at 11:55 AM EDT. ... Real Madrid have won the European Cup/Champions League final for the 15th time (against just three losses), more than double every other team in history.\"}, {\"url\": \"https://www.uefa.com/uefachampionsleague/news/028d-1ad799ae4525-365c9c4d1986-1000--real-madrid-win-the-2023-24-uefa-champions-league-meet-the/\", \"content\": \"Live 01/06/2024 Champions League final lowdown The best of the best will be crowned at London\\'s Wembley Stadium on 1 June. Live 01/06/2024 Final records and statistics We open the final record\"}]', name='search_web', id='4bb1bd7c-41c3-4031-9b96-2cb4c4e59103', tool_call_id='call_oKnv1n0hNij3ycoWh9n0stuA')]\n"
          ]
        },
        {
          "output_type": "display_data",
          "data": {
            "text/plain": [
              "<IPython.core.display.Markdown object>"
            ],
            "text/markdown": "[{\"url\": \"https://www.uefa.com/uefachampionsleague/news/028e-1b07e18d875a-ba78e4b9d9fc-1000--real-madrid-win-champions-league-carvajal-and-vinicius-jun/\", \"content\": \"Live 01/06/2024 Champions League winners by nation Joselu became the 79th Spaniard to feature in a final win in 2024, with Jude Bellingham the 70th English player.\"}, {\"url\": \"https://www.nbclosangeles.com/news/sports/soccer/real-madrid-wins-2024-champions-league-title/3426540/\", \"content\": \"Real Madrid defeated Borussia Dortmund at Wembley Stadium to win the 2024 Champions League title. ... As well as three titles with Madrid, he was a two-time winner with AC Milan. He also lifted\"}, {\"url\": \"https://www.sportingnews.com/us/champions-league/news/champions-league-final-2024-live-score-result-real-madrid-dortmund/0a034fd36e18781a619e15f1\", \"content\": \"Champions League final 2024 kick off time Borussia Dortmund vs. Real Madrid takes place at Wembley Stadium in London, UK and kicks off on Saturday, June 1 at 8:00 p.m. local time.\"}, {\"url\": \"https://www.nytimes.com/athletic/live-blogs/real-madrid-dortmund-live-updates-champions-league-final-2024-score-result/Ovn4uExc188E/\", \"content\": \"June 3, 2024 at 11:55 AM EDT. ... Real Madrid have won the European Cup/Champions League final for the 15th time (against just three losses), more than double every other team in history.\"}, {\"url\": \"https://www.uefa.com/uefachampionsleague/news/028d-1ad799ae4525-365c9c4d1986-1000--real-madrid-win-the-2023-24-uefa-champions-league-meet-the/\", \"content\": \"Live 01/06/2024 Champions League final lowdown The best of the best will be crowned at London's Wembley Stadium on 1 June. Live 01/06/2024 Final records and statistics We open the final record\"}]"
          },
          "metadata": {}
        },
        {
          "output_type": "stream",
          "name": "stdout",
          "text": [
            "[AIMessage(content='Real Madrid won the Champions League in 2024 by defeating Borussia Dortmund at Wembley Stadium.', additional_kwargs={'refusal': None}, response_metadata={'token_usage': {'completion_tokens': 22, 'prompt_tokens': 677, 'total_tokens': 699, 'completion_tokens_details': {'audio_tokens': None, 'reasoning_tokens': 0}, 'prompt_tokens_details': {'audio_tokens': None, 'cached_tokens': 0}}, 'model_name': 'gpt-3.5-turbo-0125', 'system_fingerprint': None, 'finish_reason': 'stop', 'logprobs': None}, id='run-90e569d1-6fc2-4eea-9e86-a81c2cb93af0-0', usage_metadata={'input_tokens': 677, 'output_tokens': 22, 'total_tokens': 699, 'input_token_details': {'cache_read': 0}, 'output_token_details': {'reasoning': 0}})]\n"
          ]
        },
        {
          "output_type": "display_data",
          "data": {
            "text/plain": [
              "<IPython.core.display.Markdown object>"
            ],
            "text/markdown": "Real Madrid won the Champions League in 2024 by defeating Borussia Dortmund at Wembley Stadium."
          },
          "metadata": {}
        }
      ]
    },
    {
      "cell_type": "code",
      "source": [
        "prompt = \"tell me more about this event please\"\n",
        "chat_with_agent(prompt,user_id)"
      ],
      "metadata": {
        "colab": {
          "base_uri": "https://localhost:8080/",
          "height": 156
        },
        "id": "mGMvqTcO0Fzb",
        "outputId": "52a2b85a-d477-4d58-985d-c80ae4feb1c8"
      },
      "execution_count": 53,
      "outputs": [
        {
          "output_type": "stream",
          "name": "stderr",
          "text": [
            "<ipython-input-51-531a6d6881ac>:10: LangGraphDeprecationWarning: Parameter 'messages_modifier' in function 'create_react_agent' is deprecated as of version 0.1.9 and will be removed in version 0.3.0. Use 'state_modifier' parameter instead.\n",
            "  agentic_chatbot = create_react_agent(chatgpt, tools = tools, messages_modifier=add_sys_prompt, checkpointer=memory)\n"
          ]
        },
        {
          "output_type": "stream",
          "name": "stdout",
          "text": [
            "[AIMessage(content=\"The 2024 Champions League final took place at Wembley Stadium in London, UK. Real Madrid emerged victorious by defeating Borussia Dortmund in the final match. This victory marked Real Madrid's 15th European Cup/Champions League title, solidifying their position as one of the most successful teams in the competition's history. The match was held on June 1, 2024, and Real Madrid secured the win to claim the prestigious title.\", additional_kwargs={'refusal': None}, response_metadata={'token_usage': {'completion_tokens': 93, 'prompt_tokens': 713, 'total_tokens': 806, 'completion_tokens_details': {'audio_tokens': None, 'reasoning_tokens': 0}, 'prompt_tokens_details': {'audio_tokens': None, 'cached_tokens': 0}}, 'model_name': 'gpt-3.5-turbo-0125', 'system_fingerprint': None, 'finish_reason': 'stop', 'logprobs': None}, id='run-b11c0392-74ca-49ff-90ba-795643871b7c-0', usage_metadata={'input_tokens': 713, 'output_tokens': 93, 'total_tokens': 806, 'input_token_details': {'cache_read': 0}, 'output_token_details': {'reasoning': 0}})]\n"
          ]
        },
        {
          "output_type": "display_data",
          "data": {
            "text/plain": [
              "<IPython.core.display.Markdown object>"
            ],
            "text/markdown": "The 2024 Champions League final took place at Wembley Stadium in London, UK. Real Madrid emerged victorious by defeating Borussia Dortmund in the final match. This victory marked Real Madrid's 15th European Cup/Champions League title, solidifying their position as one of the most successful teams in the competition's history. The match was held on June 1, 2024, and Real Madrid secured the win to claim the prestigious title."
          },
          "metadata": {}
        }
      ]
    },
    {
      "cell_type": "code",
      "source": [
        "prompt = \"who was the highest goal scorer in this match\"\n",
        "chat_with_agent(prompt,user_id)"
      ],
      "metadata": {
        "colab": {
          "base_uri": "https://localhost:8080/",
          "height": 499
        },
        "id": "R99otjrY2Kpo",
        "outputId": "1791034f-6b48-4963-a28a-6f1a9110c2ef"
      },
      "execution_count": 54,
      "outputs": [
        {
          "output_type": "stream",
          "name": "stderr",
          "text": [
            "<ipython-input-51-531a6d6881ac>:10: LangGraphDeprecationWarning: Parameter 'messages_modifier' in function 'create_react_agent' is deprecated as of version 0.1.9 and will be removed in version 0.3.0. Use 'state_modifier' parameter instead.\n",
            "  agentic_chatbot = create_react_agent(chatgpt, tools = tools, messages_modifier=add_sys_prompt, checkpointer=memory)\n"
          ]
        },
        {
          "output_type": "stream",
          "name": "stdout",
          "text": [
            "[AIMessage(content='', additional_kwargs={'tool_calls': [{'id': 'call_bDSZ54LPhkpPpRboGM1jFJ9Z', 'function': {'arguments': '{\"query\":\"highest goal scorer in Real Madrid vs Borussia Dortmund Champions League final 2024\"}', 'name': 'search_web'}, 'type': 'function'}], 'refusal': None}, response_metadata={'token_usage': {'completion_tokens': 29, 'prompt_tokens': 822, 'total_tokens': 851, 'completion_tokens_details': {'audio_tokens': None, 'reasoning_tokens': 0}, 'prompt_tokens_details': {'audio_tokens': None, 'cached_tokens': 0}}, 'model_name': 'gpt-3.5-turbo-0125', 'system_fingerprint': None, 'finish_reason': 'tool_calls', 'logprobs': None}, id='run-087a6878-c8e7-4d41-9d56-0db6a31fb0fe-0', tool_calls=[{'name': 'search_web', 'args': {'query': 'highest goal scorer in Real Madrid vs Borussia Dortmund Champions League final 2024'}, 'id': 'call_bDSZ54LPhkpPpRboGM1jFJ9Z', 'type': 'tool_call'}], usage_metadata={'input_tokens': 822, 'output_tokens': 29, 'total_tokens': 851, 'input_token_details': {'cache_read': 0}, 'output_token_details': {'reasoning': 0}})]\n"
          ]
        },
        {
          "output_type": "display_data",
          "data": {
            "text/plain": [
              "<IPython.core.display.Markdown object>"
            ],
            "text/markdown": ""
          },
          "metadata": {}
        },
        {
          "output_type": "stream",
          "name": "stdout",
          "text": [
            "[ToolMessage(content='[{\"url\": \"https://www.uefa.com/uefachampionsleague/news/028e-1b07e18d875a-ba78e4b9d9fc-1000--real-madrid-win-champions-league-carvajal-and-vinicius-junior-see-off-dortmund/\", \"content\": \"Dani Carvajal and Vinícius Júnior scored the goals as Real Madrid overcame a spirited Borussia Dortmund 2-0 to win the 2024 UEFA Champions League final at Wembley Stadium. Key moments\"}, {\"url\": \"https://www.sportingnews.com/us/champions-league/news/real-madrid-vs-borussia-dortmund-live-score-result-updates-stats-ucl/b8012e1d1e84910357eefd0c\", \"content\": \"Real Madrid vs Borussia Dortmund final score: UCL result, stats as Vinicius hat-trick crowns amazing comeback | Sporting News Real Madrid vs Borussia Dortmund final score: UCL result, stats as Vinicius hat-trick crowns amazing comeback Real Madrid added to their frankly absurd catalogue of Champions League comebacks as Vinicius netted a sparkling hat-trick to down Borussia Dortmund 5-2. 45 mins before kickoff: It\\'s easy to forget that Dortmund had chances to punish Madrid at Wembley before Dani Carvajal and Vinicius Jr. secured the trophy the last time these two teams met. *Real Madrid (4-3-3, right to left):*\\xa0Courtois (GK) — Vazquez, Rudiger, Militao, Mendy — Valverde, Modric, Bellingham — Rodrygo, Mbappe, Vinicius\"}, {\"url\": \"https://www.bbc.com/sport/football/live/c70zpkxqe87t?page=6\", \"content\": \"This game will see Real Madrid and Borussia Dortmund meet for the first time since last season’s UEFA Champions League final, won 2-0 by the Madrid side at Wembley. Borussia Dortmund are the opponent that Real Madrid’s Kylian Mbappé has faced the most times in the UEFA Champions League (8) – after scoring three goals in his first two games against them (in 2016-17 for Monaco), he’s only netted once in the last six and failed to find the net in the last three. Since the start of last season, the two players with the most assists delivered in the UEFA Champions League are Real Madrid’s Jude Bellingham and Borussia Dortmund’s Marcel Sabitzer (five each).\"}, {\"url\": \"https://www.nytimes.com/athletic/live-blogs/real-madrid-dortmund-live-updates-champions-league-final-2024-score-result/Ovn4uExc188E/\", \"content\": \"Real Madrid won a 15th Champions League title after withstanding a hugely impressive Borussia Dortmund performance to triumph at Wembley thanks to late goals from Dani Carvajal and Vinicius Junior.\"}, {\"url\": \"https://www.nytimes.com/athletic/5532520/2024/06/01/borussia-dortmund-real-madrid-champions-league-final/\", \"content\": \"Real Madrid won a 15th Champions League title after withstanding a hugely impressive Borussia Dortmund performance to triumph at Wembley thanks to late goals from Dani Carvajal and Vinicius Junior\"}]', name='search_web', id='391efaec-0fe5-4034-b575-4a5f27e7e07e', tool_call_id='call_bDSZ54LPhkpPpRboGM1jFJ9Z')]\n"
          ]
        },
        {
          "output_type": "display_data",
          "data": {
            "text/plain": [
              "<IPython.core.display.Markdown object>"
            ],
            "text/markdown": "[{\"url\": \"https://www.uefa.com/uefachampionsleague/news/028e-1b07e18d875a-ba78e4b9d9fc-1000--real-madrid-win-champions-league-carvajal-and-vinicius-junior-see-off-dortmund/\", \"content\": \"Dani Carvajal and Vinícius Júnior scored the goals as Real Madrid overcame a spirited Borussia Dortmund 2-0 to win the 2024 UEFA Champions League final at Wembley Stadium. Key moments\"}, {\"url\": \"https://www.sportingnews.com/us/champions-league/news/real-madrid-vs-borussia-dortmund-live-score-result-updates-stats-ucl/b8012e1d1e84910357eefd0c\", \"content\": \"Real Madrid vs Borussia Dortmund final score: UCL result, stats as Vinicius hat-trick crowns amazing comeback | Sporting News Real Madrid vs Borussia Dortmund final score: UCL result, stats as Vinicius hat-trick crowns amazing comeback Real Madrid added to their frankly absurd catalogue of Champions League comebacks as Vinicius netted a sparkling hat-trick to down Borussia Dortmund 5-2. 45 mins before kickoff: It's easy to forget that Dortmund had chances to punish Madrid at Wembley before Dani Carvajal and Vinicius Jr. secured the trophy the last time these two teams met. *Real Madrid (4-3-3, right to left):* Courtois (GK) — Vazquez, Rudiger, Militao, Mendy — Valverde, Modric, Bellingham — Rodrygo, Mbappe, Vinicius\"}, {\"url\": \"https://www.bbc.com/sport/football/live/c70zpkxqe87t?page=6\", \"content\": \"This game will see Real Madrid and Borussia Dortmund meet for the first time since last season’s UEFA Champions League final, won 2-0 by the Madrid side at Wembley. Borussia Dortmund are the opponent that Real Madrid’s Kylian Mbappé has faced the most times in the UEFA Champions League (8) – after scoring three goals in his first two games against them (in 2016-17 for Monaco), he’s only netted once in the last six and failed to find the net in the last three. Since the start of last season, the two players with the most assists delivered in the UEFA Champions League are Real Madrid’s Jude Bellingham and Borussia Dortmund’s Marcel Sabitzer (five each).\"}, {\"url\": \"https://www.nytimes.com/athletic/live-blogs/real-madrid-dortmund-live-updates-champions-league-final-2024-score-result/Ovn4uExc188E/\", \"content\": \"Real Madrid won a 15th Champions League title after withstanding a hugely impressive Borussia Dortmund performance to triumph at Wembley thanks to late goals from Dani Carvajal and Vinicius Junior.\"}, {\"url\": \"https://www.nytimes.com/athletic/5532520/2024/06/01/borussia-dortmund-real-madrid-champions-league-final/\", \"content\": \"Real Madrid won a 15th Champions League title after withstanding a hugely impressive Borussia Dortmund performance to triumph at Wembley thanks to late goals from Dani Carvajal and Vinicius Junior\"}]"
          },
          "metadata": {}
        },
        {
          "output_type": "stream",
          "name": "stdout",
          "text": [
            "[AIMessage(content='In the 2024 Champions League final between Real Madrid and Borussia Dortmund, Dani Carvajal and Vinícius Júnior were the goal scorers for Real Madrid. Vinícius Júnior had a significant impact on the match by scoring crucial goals to help Real Madrid secure the victory.', additional_kwargs={'refusal': None}, response_metadata={'token_usage': {'completion_tokens': 65, 'prompt_tokens': 1590, 'total_tokens': 1655, 'completion_tokens_details': {'audio_tokens': None, 'reasoning_tokens': 0}, 'prompt_tokens_details': {'audio_tokens': None, 'cached_tokens': 0}}, 'model_name': 'gpt-3.5-turbo-0125', 'system_fingerprint': None, 'finish_reason': 'stop', 'logprobs': None}, id='run-dca4f5bf-ac97-4b8e-8cb0-b2805377c70e-0', usage_metadata={'input_tokens': 1590, 'output_tokens': 65, 'total_tokens': 1655, 'input_token_details': {'cache_read': 0}, 'output_token_details': {'reasoning': 0}})]\n"
          ]
        },
        {
          "output_type": "display_data",
          "data": {
            "text/plain": [
              "<IPython.core.display.Markdown object>"
            ],
            "text/markdown": "In the 2024 Champions League final between Real Madrid and Borussia Dortmund, Dani Carvajal and Vinícius Júnior were the goal scorers for Real Madrid. Vinícius Júnior had a significant impact on the match by scoring crucial goals to help Real Madrid secure the victory."
          },
          "metadata": {}
        }
      ]
    },
    {
      "cell_type": "code",
      "source": [
        "user_id = 'goa001'\n",
        "prompt = \"how is the weather in Pune, Maharashtra today?\"\n",
        "chat_with_agent(prompt,user_id)"
      ],
      "metadata": {
        "colab": {
          "base_uri": "https://localhost:8080/",
          "height": 901
        },
        "id": "4A4I2N-vAwdV",
        "outputId": "2e834113-6b90-45f3-f381-d37f7dac4756"
      },
      "execution_count": 56,
      "outputs": [
        {
          "output_type": "stream",
          "name": "stderr",
          "text": [
            "<ipython-input-51-531a6d6881ac>:10: LangGraphDeprecationWarning: Parameter 'messages_modifier' in function 'create_react_agent' is deprecated as of version 0.1.9 and will be removed in version 0.3.0. Use 'state_modifier' parameter instead.\n",
            "  agentic_chatbot = create_react_agent(chatgpt, tools = tools, messages_modifier=add_sys_prompt, checkpointer=memory)\n"
          ]
        },
        {
          "output_type": "stream",
          "name": "stdout",
          "text": [
            "[AIMessage(content='', additional_kwargs={'tool_calls': [{'id': 'call_oDoITILgmYpgkFRTf4kjmy9Z', 'function': {'arguments': '{\"query\":\"Pune, Maharashtra\"}', 'name': 'get_weather'}, 'type': 'function'}], 'refusal': None}, response_metadata={'token_usage': {'completion_tokens': 17, 'prompt_tokens': 2037, 'total_tokens': 2054, 'completion_tokens_details': {'audio_tokens': None, 'reasoning_tokens': 0}, 'prompt_tokens_details': {'audio_tokens': None, 'cached_tokens': 0}}, 'model_name': 'gpt-3.5-turbo-0125', 'system_fingerprint': None, 'finish_reason': 'tool_calls', 'logprobs': None}, id='run-7759cee7-d8ca-4443-b734-56a095febcb2-0', tool_calls=[{'name': 'get_weather', 'args': {'query': 'Pune, Maharashtra'}, 'id': 'call_oDoITILgmYpgkFRTf4kjmy9Z', 'type': 'tool_call'}], usage_metadata={'input_tokens': 2037, 'output_tokens': 17, 'total_tokens': 2054, 'input_token_details': {'cache_read': 0}, 'output_token_details': {'reasoning': 0}})]\n"
          ]
        },
        {
          "output_type": "display_data",
          "data": {
            "text/plain": [
              "<IPython.core.display.Markdown object>"
            ],
            "text/markdown": ""
          },
          "metadata": {}
        },
        {
          "output_type": "stream",
          "name": "stdout",
          "text": [
            "[ToolMessage(content='Error: AttributeError(\"\\'function\\' object has no attribute \\'get\\'\")\\n Please fix your mistakes.', name='get_weather', id='ed4985d6-7a5a-419b-a176-6fc35d22c03f', tool_call_id='call_oDoITILgmYpgkFRTf4kjmy9Z', status='error')]\n"
          ]
        },
        {
          "output_type": "display_data",
          "data": {
            "text/plain": [
              "<IPython.core.display.Markdown object>"
            ],
            "text/markdown": "Error: AttributeError(\"'function' object has no attribute 'get'\")\n Please fix your mistakes."
          },
          "metadata": {}
        },
        {
          "output_type": "stream",
          "name": "stdout",
          "text": [
            "[AIMessage(content='I encountered an error while trying to retrieve the weather information for Pune, Maharashtra. Let me try again.', additional_kwargs={'tool_calls': [{'id': 'call_So6otkoz4ROJNgQxIErMrvHG', 'function': {'arguments': '{\"query\":\"Pune, Maharashtra\"}', 'name': 'get_weather'}, 'type': 'function'}], 'refusal': None}, response_metadata={'token_usage': {'completion_tokens': 39, 'prompt_tokens': 2080, 'total_tokens': 2119, 'completion_tokens_details': {'audio_tokens': None, 'reasoning_tokens': 0}, 'prompt_tokens_details': {'audio_tokens': None, 'cached_tokens': 0}}, 'model_name': 'gpt-3.5-turbo-0125', 'system_fingerprint': None, 'finish_reason': 'tool_calls', 'logprobs': None}, id='run-dafdb0ad-855e-4266-8c79-c7093b1e0d5a-0', tool_calls=[{'name': 'get_weather', 'args': {'query': 'Pune, Maharashtra'}, 'id': 'call_So6otkoz4ROJNgQxIErMrvHG', 'type': 'tool_call'}], usage_metadata={'input_tokens': 2080, 'output_tokens': 39, 'total_tokens': 2119, 'input_token_details': {'cache_read': 0}, 'output_token_details': {'reasoning': 0}})]\n"
          ]
        },
        {
          "output_type": "display_data",
          "data": {
            "text/plain": [
              "<IPython.core.display.Markdown object>"
            ],
            "text/markdown": "I encountered an error while trying to retrieve the weather information for Pune, Maharashtra. Let me try again."
          },
          "metadata": {}
        },
        {
          "output_type": "stream",
          "name": "stdout",
          "text": [
            "[ToolMessage(content='Error: AttributeError(\"\\'function\\' object has no attribute \\'get\\'\")\\n Please fix your mistakes.', name='get_weather', id='1d28e948-e58b-489d-a788-c1b33b945d97', tool_call_id='call_So6otkoz4ROJNgQxIErMrvHG', status='error')]\n"
          ]
        },
        {
          "output_type": "display_data",
          "data": {
            "text/plain": [
              "<IPython.core.display.Markdown object>"
            ],
            "text/markdown": "Error: AttributeError(\"'function' object has no attribute 'get'\")\n Please fix your mistakes."
          },
          "metadata": {}
        },
        {
          "output_type": "stream",
          "name": "stdout",
          "text": [
            "[AIMessage(content='I apologize for the inconvenience. It seems there is an issue with retrieving the weather information for Pune, Maharashtra at the moment. Let me attempt to get the weather data again.', additional_kwargs={'tool_calls': [{'id': 'call_pcM813AeIyDJCbLj6RnHtA1t', 'function': {'arguments': '{\"query\":\"Pune, Maharashtra\"}', 'name': 'get_weather'}, 'type': 'function'}], 'refusal': None}, response_metadata={'token_usage': {'completion_tokens': 53, 'prompt_tokens': 2148, 'total_tokens': 2201, 'completion_tokens_details': {'audio_tokens': None, 'reasoning_tokens': 0}, 'prompt_tokens_details': {'audio_tokens': None, 'cached_tokens': 0}}, 'model_name': 'gpt-3.5-turbo-0125', 'system_fingerprint': None, 'finish_reason': 'tool_calls', 'logprobs': None}, id='run-03852ad4-40ef-4bf0-949d-6abae1d7caa7-0', tool_calls=[{'name': 'get_weather', 'args': {'query': 'Pune, Maharashtra'}, 'id': 'call_pcM813AeIyDJCbLj6RnHtA1t', 'type': 'tool_call'}], usage_metadata={'input_tokens': 2148, 'output_tokens': 53, 'total_tokens': 2201, 'input_token_details': {'cache_read': 0}, 'output_token_details': {'reasoning': 0}})]\n"
          ]
        },
        {
          "output_type": "display_data",
          "data": {
            "text/plain": [
              "<IPython.core.display.Markdown object>"
            ],
            "text/markdown": "I apologize for the inconvenience. It seems there is an issue with retrieving the weather information for Pune, Maharashtra at the moment. Let me attempt to get the weather data again."
          },
          "metadata": {}
        },
        {
          "output_type": "stream",
          "name": "stdout",
          "text": [
            "[ToolMessage(content='Error: AttributeError(\"\\'function\\' object has no attribute \\'get\\'\")\\n Please fix your mistakes.', name='get_weather', id='2ae47113-dde1-4b52-b66e-cdd0c0358e70', tool_call_id='call_pcM813AeIyDJCbLj6RnHtA1t', status='error')]\n"
          ]
        },
        {
          "output_type": "display_data",
          "data": {
            "text/plain": [
              "<IPython.core.display.Markdown object>"
            ],
            "text/markdown": "Error: AttributeError(\"'function' object has no attribute 'get'\")\n Please fix your mistakes."
          },
          "metadata": {}
        },
        {
          "output_type": "stream",
          "name": "stdout",
          "text": [
            "[AIMessage(content=\"I'm currently facing a technical issue in retrieving the weather information for Pune, Maharashtra. I'll make another attempt to get the weather data.\", additional_kwargs={'tool_calls': [{'id': 'call_hivkgEmVznDAK3yqJpm8W8tI', 'function': {'arguments': '{\"query\": \"Pune, Maharashtra\"}', 'name': 'get_weather'}, 'type': 'function'}, {'id': 'call_6cMiQzXjmwzr6K1f9TvQrR9T', 'function': {'arguments': '{\"query\": \"weather forecast Pune, Maharashtra\"}', 'name': 'search_web'}, 'type': 'function'}], 'refusal': None}, response_metadata={'token_usage': {'completion_tokens': 79, 'prompt_tokens': 2230, 'total_tokens': 2309, 'completion_tokens_details': {'audio_tokens': None, 'reasoning_tokens': 0}, 'prompt_tokens_details': {'audio_tokens': None, 'cached_tokens': 0}}, 'model_name': 'gpt-3.5-turbo-0125', 'system_fingerprint': None, 'finish_reason': 'tool_calls', 'logprobs': None}, id='run-9e19cd34-cd34-47b5-a6fd-f74251a5387f-0', tool_calls=[{'name': 'get_weather', 'args': {'query': 'Pune, Maharashtra'}, 'id': 'call_hivkgEmVznDAK3yqJpm8W8tI', 'type': 'tool_call'}, {'name': 'search_web', 'args': {'query': 'weather forecast Pune, Maharashtra'}, 'id': 'call_6cMiQzXjmwzr6K1f9TvQrR9T', 'type': 'tool_call'}], usage_metadata={'input_tokens': 2230, 'output_tokens': 79, 'total_tokens': 2309, 'input_token_details': {'cache_read': 0}, 'output_token_details': {'reasoning': 0}})]\n"
          ]
        },
        {
          "output_type": "display_data",
          "data": {
            "text/plain": [
              "<IPython.core.display.Markdown object>"
            ],
            "text/markdown": "I'm currently facing a technical issue in retrieving the weather information for Pune, Maharashtra. I'll make another attempt to get the weather data."
          },
          "metadata": {}
        },
        {
          "output_type": "stream",
          "name": "stdout",
          "text": [
            "[ToolMessage(content='Error: AttributeError(\"\\'function\\' object has no attribute \\'get\\'\")\\n Please fix your mistakes.', name='get_weather', id='403f9c49-0924-41bc-a891-351abafcab2c', tool_call_id='call_hivkgEmVznDAK3yqJpm8W8tI', status='error'), ToolMessage(content='[{\"url\": \"https://www.weatherapi.com/\", \"content\": \"{\\'location\\': {\\'name\\': \\'Pune\\', \\'region\\': \\'Maharashtra\\', \\'country\\': \\'India\\', \\'lat\\': 18.5333, \\'lon\\': 73.8667, \\'tz_id\\': \\'Asia/Kolkata\\', \\'localtime_epoch\\': 1730368880, \\'localtime\\': \\'2024-10-31 15:31\\'}, \\'current\\': {\\'last_updated_epoch\\': 1730368800, \\'last_updated\\': \\'2024-10-31 15:30\\', \\'temp_c\\': 27.4, \\'temp_f\\': 81.4, \\'is_day\\': 1, \\'condition\\': {\\'text\\': \\'Cloudy\\', \\'icon\\': \\'//cdn.weatherapi.com/weather/64x64/day/119.png\\', \\'code\\': 1006}, \\'wind_mph\\': 6.9, \\'wind_kph\\': 11.2, \\'wind_degree\\': 31, \\'wind_dir\\': \\'NNE\\', \\'pressure_mb\\': 1010.0, \\'pressure_in\\': 29.82, \\'precip_mm\\': 0.0, \\'precip_in\\': 0.0, \\'humidity\\': 59, \\'cloud\\': 67, \\'feelslike_c\\': 28.8, \\'feelslike_f\\': 83.9, \\'windchill_c\\': 27.4, \\'windchill_f\\': 81.4, \\'heatindex_c\\': 28.8, \\'heatindex_f\\': 83.9, \\'dewpoint_c\\': 18.7, \\'dewpoint_f\\': 65.7, \\'vis_km\\': 10.0, \\'vis_miles\\': 6.0, \\'uv\\': 0.6, \\'gust_mph\\': 10.6, \\'gust_kph\\': 17.0}}\"}, {\"url\": \"https://www.qweather.com/en/weather30d/pune-3655B.html\", \"content\": \"28°~13°. High. Low. 2024-10-28. 18°~33°. 9km/h. WNW. 0.0mm. Pune 30 days forecast, weather trend in the next 30 days, also 30 days precipitation forecast and Pune travel weather forecast.\"}, {\"url\": \"https://www.hindustantimes.com/cities/pune-news/pune-weather-today-aqi-and-rain-forecast-updates-october-31-2024-101730338223060.html\", \"content\": \"The temperature in Pune today, on October 31, 2024, is 28.73 °C. The day\\'s forecast indicates a minimum and maximum temperature of 23.84 °C and 31.77 °C, respectively. The relative humidity is\"}, {\"url\": \"https://www.easeweather.com/asia/india/maharashtra/pune-division/pune/october\", \"content\": \"Until now, October 2024 in Pune is slightly cooler than the historical average by -0.7 ° C.. The forecast for the next days in Pune predicts temperatures to be around 31 ° C, close to the historical average.. In general, the average temperature in Pune at the beginning of October is 29.4 ° C.As the month progressed, temperatures tended to moderately rise, reaching an average of 30.6 ° C by\"}, {\"url\": \"https://www.timeanddate.com/weather/india/pune/hourly\", \"content\": \"Hour-by-Hour Forecast for Pune, Maharashtra, India. Weather Today Weather Hourly 14 Day Forecast Yesterday/Past Weather Climate (Averages) Currently: 89 °F. Scattered clouds. (Weather station: Pune, India). See more current weather.\"}]', name='search_web', id='ba1a045b-fe80-4e8d-bd3a-d721d42f815a', tool_call_id='call_6cMiQzXjmwzr6K1f9TvQrR9T')]\n"
          ]
        },
        {
          "output_type": "display_data",
          "data": {
            "text/plain": [
              "<IPython.core.display.Markdown object>"
            ],
            "text/markdown": "[{\"url\": \"https://www.weatherapi.com/\", \"content\": \"{'location': {'name': 'Pune', 'region': 'Maharashtra', 'country': 'India', 'lat': 18.5333, 'lon': 73.8667, 'tz_id': 'Asia/Kolkata', 'localtime_epoch': 1730368880, 'localtime': '2024-10-31 15:31'}, 'current': {'last_updated_epoch': 1730368800, 'last_updated': '2024-10-31 15:30', 'temp_c': 27.4, 'temp_f': 81.4, 'is_day': 1, 'condition': {'text': 'Cloudy', 'icon': '//cdn.weatherapi.com/weather/64x64/day/119.png', 'code': 1006}, 'wind_mph': 6.9, 'wind_kph': 11.2, 'wind_degree': 31, 'wind_dir': 'NNE', 'pressure_mb': 1010.0, 'pressure_in': 29.82, 'precip_mm': 0.0, 'precip_in': 0.0, 'humidity': 59, 'cloud': 67, 'feelslike_c': 28.8, 'feelslike_f': 83.9, 'windchill_c': 27.4, 'windchill_f': 81.4, 'heatindex_c': 28.8, 'heatindex_f': 83.9, 'dewpoint_c': 18.7, 'dewpoint_f': 65.7, 'vis_km': 10.0, 'vis_miles': 6.0, 'uv': 0.6, 'gust_mph': 10.6, 'gust_kph': 17.0}}\"}, {\"url\": \"https://www.qweather.com/en/weather30d/pune-3655B.html\", \"content\": \"28°~13°. High. Low. 2024-10-28. 18°~33°. 9km/h. WNW. 0.0mm. Pune 30 days forecast, weather trend in the next 30 days, also 30 days precipitation forecast and Pune travel weather forecast.\"}, {\"url\": \"https://www.hindustantimes.com/cities/pune-news/pune-weather-today-aqi-and-rain-forecast-updates-october-31-2024-101730338223060.html\", \"content\": \"The temperature in Pune today, on October 31, 2024, is 28.73 °C. The day's forecast indicates a minimum and maximum temperature of 23.84 °C and 31.77 °C, respectively. The relative humidity is\"}, {\"url\": \"https://www.easeweather.com/asia/india/maharashtra/pune-division/pune/october\", \"content\": \"Until now, October 2024 in Pune is slightly cooler than the historical average by -0.7 ° C.. The forecast for the next days in Pune predicts temperatures to be around 31 ° C, close to the historical average.. In general, the average temperature in Pune at the beginning of October is 29.4 ° C.As the month progressed, temperatures tended to moderately rise, reaching an average of 30.6 ° C by\"}, {\"url\": \"https://www.timeanddate.com/weather/india/pune/hourly\", \"content\": \"Hour-by-Hour Forecast for Pune, Maharashtra, India. Weather Today Weather Hourly 14 Day Forecast Yesterday/Past Weather Climate (Averages) Currently: 89 °F. Scattered clouds. (Weather station: Pune, India). See more current weather.\"}]"
          },
          "metadata": {}
        },
        {
          "output_type": "stream",
          "name": "stdout",
          "text": [
            "[AIMessage(content='The current weather in Pune, Maharashtra is as follows:\\n- Temperature: 27.4°C (81.4°F)\\n- Condition: Cloudy\\n- Wind: 11.2 km/h from NNE\\n- Humidity: 59%\\n- Feels like: 28.8°C (83.9°F)\\n- Visibility: 10.0 km\\n- UV Index: 0.6\\n\\nFor more detailed weather information and forecasts, you can visit reliable weather websites like WeatherAPI, QWeather, Hindustan Times, EaseWeather, or Time and Date.', additional_kwargs={'refusal': None}, response_metadata={'token_usage': {'completion_tokens': 120, 'prompt_tokens': 3201, 'total_tokens': 3321, 'completion_tokens_details': {'audio_tokens': None, 'reasoning_tokens': 0}, 'prompt_tokens_details': {'audio_tokens': None, 'cached_tokens': 0}}, 'model_name': 'gpt-3.5-turbo-0125', 'system_fingerprint': None, 'finish_reason': 'stop', 'logprobs': None}, id='run-295be0ba-3156-4ff6-9aaa-99c293680237-0', usage_metadata={'input_tokens': 3201, 'output_tokens': 120, 'total_tokens': 3321, 'input_token_details': {'cache_read': 0}, 'output_token_details': {'reasoning': 0}})]\n"
          ]
        },
        {
          "output_type": "display_data",
          "data": {
            "text/plain": [
              "<IPython.core.display.Markdown object>"
            ],
            "text/markdown": "The current weather in Pune, Maharashtra is as follows:\n- Temperature: 27.4°C (81.4°F)\n- Condition: Cloudy\n- Wind: 11.2 km/h from NNE\n- Humidity: 59%\n- Feels like: 28.8°C (83.9°F)\n- Visibility: 10.0 km\n- UV Index: 0.6\n\nFor more detailed weather information and forecasts, you can visit reliable weather websites like WeatherAPI, QWeather, Hindustan Times, EaseWeather, or Time and Date."
          },
          "metadata": {}
        }
      ]
    },
    {
      "cell_type": "code",
      "source": [
        "prompt = \"how does it look for 10 days ahead\"\n",
        "chat_with_agent(prompt,user_id)"
      ],
      "metadata": {
        "colab": {
          "base_uri": "https://localhost:8080/",
          "height": 546
        },
        "id": "qZiKJJ83BP6r",
        "outputId": "7526160d-d4c9-4124-bae7-e43990e93f97"
      },
      "execution_count": 57,
      "outputs": [
        {
          "output_type": "stream",
          "name": "stderr",
          "text": [
            "<ipython-input-51-531a6d6881ac>:10: LangGraphDeprecationWarning: Parameter 'messages_modifier' in function 'create_react_agent' is deprecated as of version 0.1.9 and will be removed in version 0.3.0. Use 'state_modifier' parameter instead.\n",
            "  agentic_chatbot = create_react_agent(chatgpt, tools = tools, messages_modifier=add_sys_prompt, checkpointer=memory)\n"
          ]
        },
        {
          "output_type": "stream",
          "name": "stdout",
          "text": [
            "[AIMessage(content='', additional_kwargs={'tool_calls': [{'id': 'call_cIykLIER3Q9UlJQ1I1KZfSWH', 'function': {'arguments': '{\"query\":\"weather forecast Pune, Maharashtra 10 days\"}', 'name': 'search_web'}, 'type': 'function'}], 'refusal': None}, response_metadata={'token_usage': {'completion_tokens': 21, 'prompt_tokens': 3337, 'total_tokens': 3358, 'completion_tokens_details': {'audio_tokens': None, 'reasoning_tokens': 0}, 'prompt_tokens_details': {'audio_tokens': None, 'cached_tokens': 0}}, 'model_name': 'gpt-3.5-turbo-0125', 'system_fingerprint': None, 'finish_reason': 'tool_calls', 'logprobs': None}, id='run-13496f94-29b5-43c6-bbbf-cb97cf81baaa-0', tool_calls=[{'name': 'search_web', 'args': {'query': 'weather forecast Pune, Maharashtra 10 days'}, 'id': 'call_cIykLIER3Q9UlJQ1I1KZfSWH', 'type': 'tool_call'}], usage_metadata={'input_tokens': 3337, 'output_tokens': 21, 'total_tokens': 3358, 'input_token_details': {'cache_read': 0}, 'output_token_details': {'reasoning': 0}})]\n"
          ]
        },
        {
          "output_type": "display_data",
          "data": {
            "text/plain": [
              "<IPython.core.display.Markdown object>"
            ],
            "text/markdown": ""
          },
          "metadata": {}
        },
        {
          "output_type": "stream",
          "name": "stdout",
          "text": [
            "[ToolMessage(content='[{\"url\": \"https://www.weatherapi.com/\", \"content\": \"{\\'location\\': {\\'name\\': \\'Pune\\', \\'region\\': \\'Maharashtra\\', \\'country\\': \\'India\\', \\'lat\\': 18.5333, \\'lon\\': 73.8667, \\'tz_id\\': \\'Asia/Kolkata\\', \\'localtime_epoch\\': 1730368880, \\'localtime\\': \\'2024-10-31 15:31\\'}, \\'current\\': {\\'last_updated_epoch\\': 1730368800, \\'last_updated\\': \\'2024-10-31 15:30\\', \\'temp_c\\': 27.4, \\'temp_f\\': 81.4, \\'is_day\\': 1, \\'condition\\': {\\'text\\': \\'Cloudy\\', \\'icon\\': \\'//cdn.weatherapi.com/weather/64x64/day/119.png\\', \\'code\\': 1006}, \\'wind_mph\\': 6.9, \\'wind_kph\\': 11.2, \\'wind_degree\\': 31, \\'wind_dir\\': \\'NNE\\', \\'pressure_mb\\': 1010.0, \\'pressure_in\\': 29.82, \\'precip_mm\\': 0.0, \\'precip_in\\': 0.0, \\'humidity\\': 59, \\'cloud\\': 67, \\'feelslike_c\\': 28.8, \\'feelslike_f\\': 83.9, \\'windchill_c\\': 27.4, \\'windchill_f\\': 81.4, \\'heatindex_c\\': 28.8, \\'heatindex_f\\': 83.9, \\'dewpoint_c\\': 18.7, \\'dewpoint_f\\': 65.7, \\'vis_km\\': 10.0, \\'vis_miles\\': 6.0, \\'uv\\': 0.6, \\'gust_mph\\': 10.6, \\'gust_kph\\': 17.0}}\"}, {\"url\": \"https://weather.com/en-IN/weather/tenday/l/de358cca466f4edf4b74ac43b04bd12422a8bc9c90eb9d29539390a8d77da8fc\", \"content\": \"31°/ 20°. 5%. Partly cloudy. Hazy. Low 20°C. Winds E and variable. Be prepared with the most accurate 10-day forecast for Pune, Maharashtra with highs, lows, chance of precipitation from The\"}, {\"url\": \"https://www.weather-india.in/en/india/maharashtra/weather-pune/10-day-forecast\", \"content\": \"28°C. Clear sky. 0 mm. E 9 km/h. Clear sky. Rain 0 mm, Wind 9 km/h, Wind direction E. Weather in Pune, Maharashtra in the next 10 days? We provide information on: wind speed, wind direction, atmospheric pressure, temperature, humidity and visibility.\"}, {\"url\": \"https://www.easeweather.com/asia/india/maharashtra/pune-division/pune/october\", \"content\": \"Until now, October 2024 in Pune is slightly cooler than the historical average by -0.7 ° C.. The forecast for the next days in Pune predicts temperatures to be around 31 ° C, close to the historical average.. In general, the average temperature in Pune at the beginning of October is 29.4 ° C.As the month progressed, temperatures tended to moderately rise, reaching an average of 30.6 ° C by\"}, {\"url\": \"https://www.easeweather.com/asia/india/maharashtra/pune-division/pune\", \"content\": \"Discover the latest weather forecast for Pune, featuring daily and 14-day long-range predictions. View detailed, interactive graphs and click for in-depth information on each day\\'s weather in Pune. Units °C °F. Pune. Forecast Today Tomorrow. more. Maharashtra India United States. ... Thu. 31. 31 ° 24 ° 0.2 mm. Fri. 1. 32\"}]', name='search_web', id='5d051bae-40e6-41e1-b275-c805867d118c', tool_call_id='call_cIykLIER3Q9UlJQ1I1KZfSWH')]\n"
          ]
        },
        {
          "output_type": "display_data",
          "data": {
            "text/plain": [
              "<IPython.core.display.Markdown object>"
            ],
            "text/markdown": "[{\"url\": \"https://www.weatherapi.com/\", \"content\": \"{'location': {'name': 'Pune', 'region': 'Maharashtra', 'country': 'India', 'lat': 18.5333, 'lon': 73.8667, 'tz_id': 'Asia/Kolkata', 'localtime_epoch': 1730368880, 'localtime': '2024-10-31 15:31'}, 'current': {'last_updated_epoch': 1730368800, 'last_updated': '2024-10-31 15:30', 'temp_c': 27.4, 'temp_f': 81.4, 'is_day': 1, 'condition': {'text': 'Cloudy', 'icon': '//cdn.weatherapi.com/weather/64x64/day/119.png', 'code': 1006}, 'wind_mph': 6.9, 'wind_kph': 11.2, 'wind_degree': 31, 'wind_dir': 'NNE', 'pressure_mb': 1010.0, 'pressure_in': 29.82, 'precip_mm': 0.0, 'precip_in': 0.0, 'humidity': 59, 'cloud': 67, 'feelslike_c': 28.8, 'feelslike_f': 83.9, 'windchill_c': 27.4, 'windchill_f': 81.4, 'heatindex_c': 28.8, 'heatindex_f': 83.9, 'dewpoint_c': 18.7, 'dewpoint_f': 65.7, 'vis_km': 10.0, 'vis_miles': 6.0, 'uv': 0.6, 'gust_mph': 10.6, 'gust_kph': 17.0}}\"}, {\"url\": \"https://weather.com/en-IN/weather/tenday/l/de358cca466f4edf4b74ac43b04bd12422a8bc9c90eb9d29539390a8d77da8fc\", \"content\": \"31°/ 20°. 5%. Partly cloudy. Hazy. Low 20°C. Winds E and variable. Be prepared with the most accurate 10-day forecast for Pune, Maharashtra with highs, lows, chance of precipitation from The\"}, {\"url\": \"https://www.weather-india.in/en/india/maharashtra/weather-pune/10-day-forecast\", \"content\": \"28°C. Clear sky. 0 mm. E 9 km/h. Clear sky. Rain 0 mm, Wind 9 km/h, Wind direction E. Weather in Pune, Maharashtra in the next 10 days? We provide information on: wind speed, wind direction, atmospheric pressure, temperature, humidity and visibility.\"}, {\"url\": \"https://www.easeweather.com/asia/india/maharashtra/pune-division/pune/october\", \"content\": \"Until now, October 2024 in Pune is slightly cooler than the historical average by -0.7 ° C.. The forecast for the next days in Pune predicts temperatures to be around 31 ° C, close to the historical average.. In general, the average temperature in Pune at the beginning of October is 29.4 ° C.As the month progressed, temperatures tended to moderately rise, reaching an average of 30.6 ° C by\"}, {\"url\": \"https://www.easeweather.com/asia/india/maharashtra/pune-division/pune\", \"content\": \"Discover the latest weather forecast for Pune, featuring daily and 14-day long-range predictions. View detailed, interactive graphs and click for in-depth information on each day's weather in Pune. Units °C °F. Pune. Forecast Today Tomorrow. more. Maharashtra India United States. ... Thu. 31. 31 ° 24 ° 0.2 mm. Fri. 1. 32\"}]"
          },
          "metadata": {}
        },
        {
          "output_type": "stream",
          "name": "stdout",
          "text": [
            "[AIMessage(content='The weather forecast for Pune, Maharashtra for the next 10 days indicates the following:\\n- Temperature range: 31°C to 20°C\\n- Conditions: Partly cloudy with hazy weather\\n- Wind: East and variable\\n- Chance of precipitation: 5%\\n\\nFor more detailed and specific daily forecasts, you can visit weather websites like The Weather Channel, Weather India, or EaseWeather.', additional_kwargs={'refusal': None}, response_metadata={'token_usage': {'completion_tokens': 81, 'prompt_tokens': 4220, 'total_tokens': 4301, 'completion_tokens_details': {'audio_tokens': None, 'reasoning_tokens': 0}, 'prompt_tokens_details': {'audio_tokens': None, 'cached_tokens': 0}}, 'model_name': 'gpt-3.5-turbo-0125', 'system_fingerprint': None, 'finish_reason': 'stop', 'logprobs': None}, id='run-70cd804b-09eb-486e-a0ec-32179faba630-0', usage_metadata={'input_tokens': 4220, 'output_tokens': 81, 'total_tokens': 4301, 'input_token_details': {'cache_read': 0}, 'output_token_details': {'reasoning': 0}})]\n"
          ]
        },
        {
          "output_type": "display_data",
          "data": {
            "text/plain": [
              "<IPython.core.display.Markdown object>"
            ],
            "text/markdown": "The weather forecast for Pune, Maharashtra for the next 10 days indicates the following:\n- Temperature range: 31°C to 20°C\n- Conditions: Partly cloudy with hazy weather\n- Wind: East and variable\n- Chance of precipitation: 5%\n\nFor more detailed and specific daily forecasts, you can visit weather websites like The Weather Channel, Weather India, or EaseWeather."
          },
          "metadata": {}
        }
      ]
    },
    {
      "cell_type": "code",
      "source": [],
      "metadata": {
        "id": "1rqKAYrTBo-O"
      },
      "execution_count": null,
      "outputs": []
    }
  ]
}